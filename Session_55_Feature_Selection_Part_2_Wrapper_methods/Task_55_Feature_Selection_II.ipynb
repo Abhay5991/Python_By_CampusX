{
  "nbformat": 4,
  "nbformat_minor": 0,
  "metadata": {
    "colab": {
      "provenance": []
    },
    "kernelspec": {
      "name": "python3",
      "display_name": "Python 3"
    },
    "language_info": {
      "name": "python"
    }
  },
  "cells": [
    {
      "cell_type": "markdown",
      "source": [
        "## `Task` Select best features from from Wine Quality dataset.\n",
        "\n",
        "* Data Link : https://www.kaggle.com/datasets/rajyellow46/wine-quality \n",
        "\n",
        "* Drive link : https://docs.google.com/spreadsheets/d/e/2PACX-1vQDVwxneOKOaJL13QMhkAhYrgWlH1tICY7RacUnj_lL8m9uUWaaUf3p7bScNyh_D2Rvt7nc1q11adSy/pub?gid=647503637&single=true&output=csv\n",
        "\n",
        "Note : Follow approach from Feature Selection Session - 2"
      ],
      "metadata": {
        "id": "Am3LnF0pPu50"
      }
    },
    {
      "cell_type": "code",
      "source": [
        "# Your Code goes Here"
      ],
      "metadata": {
        "id": "8DbFxHmzP23m"
      },
      "execution_count": null,
      "outputs": []
    }
  ]
}