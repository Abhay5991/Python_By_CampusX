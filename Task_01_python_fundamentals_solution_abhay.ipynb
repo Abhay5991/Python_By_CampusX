{
 "cells": [
  {
   "cell_type": "markdown",
   "metadata": {
    "id": "A05OG15VqOPF"
   },
   "source": [
    "# Task : Session 1\n",
    "Solve these questions own your own and try to test yourself what you have learned in the session.\n",
    "\n",
    "Happy Learning!"
   ]
  },
  {
   "cell_type": "markdown",
   "metadata": {
    "id": "2doIXf8bqe9_"
   },
   "source": [
    "### Q1 :- Print the given strings as per stated format.\n",
    "\n",
    "**Given strings**: \n",
    "```\n",
    "\"Data\" \"Science\" \"Mentorship\" \"Program\" \n",
    "\"By\" \"CampusX\"\n",
    "```\n",
    "**Output**: \n",
    "``` \n",
    "Data-Science-Mentorship-Program-started-By-CampusX\n",
    "```\n",
    "\n",
    "Concept- [Seperator and End]"
   ]
  },
  {
   "cell_type": "code",
   "execution_count": 1,
   "metadata": {
    "colab": {
     "base_uri": "https://localhost:8080/"
    },
    "id": "-em6d3KErDtp",
    "outputId": "43ce246d-972d-4fa4-beeb-d0b638be2673"
   },
   "outputs": [
    {
     "name": "stdout",
     "output_type": "stream",
     "text": [
      "Data-Science-Mentorship-Program-started-By-CampusX\n"
     ]
    }
   ],
   "source": [
    "# Write your code here\n",
    "print(\"Data\", \"Science\" ,\"Mentorship\", \"Program\" ,sep=\"-\",end =\"-started-\")\n",
    "print(\"By\" ,\"CampusX\",sep=\"-\")"
   ]
  },
  {
   "cell_type": "markdown",
   "metadata": {
    "id": "1KUpN7ZTrC3_"
   },
   "source": [
    "### Q2:- Write a program that will convert celsius value to fahrenheit."
   ]
  },
  {
   "cell_type": "code",
   "execution_count": 3,
   "metadata": {
    "colab": {
     "base_uri": "https://localhost:8080/"
    },
    "id": "yxKYhYQiqWfj",
    "outputId": "8cead28d-b330-4ccd-b84c-92ee825125a2"
   },
   "outputs": [
    {
     "name": "stdout",
     "output_type": "stream",
     "text": [
      "Temperature value in degree Celsius: 16\n",
      "The 16.0 degree Celsius is equal to: 60.8 Fahrenheit\n"
     ]
    }
   ],
   "source": [
    "# Write your code here\n",
    "celsius = float(input(\"Temperature value in degree Celsius: \" ))  \n",
    "Fahrenheit = (celsius * 9/5) + 32  \n",
    "    \n",
    "# print the result  \n",
    "print('The {} degree Celsius is equal to: {} Fahrenheit'  \n",
    "      .format(celsius, Fahrenheit))    "
   ]
  },
  {
   "cell_type": "markdown",
   "metadata": {
    "id": "RLrOBBJurLB2"
   },
   "source": [
    "### Q3:- Take 2 numbers as input from the user.Write a program to swap the numbers without using any special python syntax."
   ]
  },
  {
   "cell_type": "code",
   "execution_count": 4,
   "metadata": {
    "colab": {
     "base_uri": "https://localhost:8080/"
    },
    "id": "yPn7if0TrJ4F",
    "outputId": "242765ac-8c26-4308-b35d-8341fd6a7785"
   },
   "outputs": [
    {
     "name": "stdout",
     "output_type": "stream",
     "text": [
      "enter a: 3\n",
      "enter b: 6\n",
      "6 3\n"
     ]
    }
   ],
   "source": [
    "# Write your code here\n",
    "a=input(\"enter a: \")\n",
    "b=input(\"enter b: \")\n",
    "a,b=b,a\n",
    "print(a,b)"
   ]
  },
  {
   "cell_type": "code",
   "execution_count": 5,
   "metadata": {
    "colab": {
     "base_uri": "https://localhost:8080/"
    },
    "id": "meSw4uR905_N",
    "outputId": "16ad4080-246b-42a0-b0b7-5d3a9097cacd"
   },
   "outputs": [
    {
     "name": "stdout",
     "output_type": "stream",
     "text": [
      "4 3\n"
     ]
    }
   ],
   "source": [
    "a=3\n",
    "b=4\n",
    "temp=a\n",
    "a=b\n",
    "b=temp\n",
    "print(a,b)"
   ]
  },
  {
   "cell_type": "markdown",
   "metadata": {
    "id": "waLCP1bjr7ML"
   },
   "source": [
    "34\n",
    "### Q4:- Write a program to find the euclidean distance between two coordinates.Take both the coordinates from the user as input."
   ]
  },
  {
   "cell_type": "code",
   "execution_count": 46,
   "metadata": {
    "colab": {
     "base_uri": "https://localhost:8080/"
    },
    "id": "Pl1Sv-xnrxnH",
    "outputId": "2c2f3cfd-efc0-429c-8ca5-b2857be9a138"
   },
   "outputs": [
    {
     "name": "stdout",
     "output_type": "stream",
     "text": [
      "enter x cor of fist point: 2\n",
      "enter x cpr of sencon pont: 3\n",
      "enter y cor of ist point : 4\n",
      "enter y cod of second point: 5\n",
      "distance is : 1.4142135623730951\n"
     ]
    }
   ],
   "source": [
    "# Write your code here\n",
    "x1=int(input(\"enter x cor of fist point: \"))\n",
    "x2=int(input(\"enter x cpr of sencon pont: \"))\n",
    "y1=int(input(\"enter y cor of ist point : \"))\n",
    "y2=int(input(\"enter y cod of second point: \"))\n",
    "distance=((x1-x2)**2+(y1-y2)**2)**0.5\n",
    "print(\"distance is :\",distance)"
   ]
  },
  {
   "cell_type": "markdown",
   "metadata": {
    "id": "VLrhg-FRsHjR"
   },
   "source": [
    "33### Q5:- Write a program to find the simple interest when the value of principle,rate of interest and time period is provided by the user.\n"
   ]
  },
  {
   "cell_type": "code",
   "execution_count": 18,
   "metadata": {
    "colab": {
     "base_uri": "https://localhost:8080/"
    },
    "id": "s40DlReZsTmY",
    "outputId": "849a25bc-f33c-454f-caea-43214457baa5"
   },
   "outputs": [
    {
     "name": "stdout",
     "output_type": "stream",
     "text": [
      "Enter principal : 1000\n",
      "Enter Rate : 10\n",
      "Enter time: 5\n",
      "Simple interest is :  500.0\n"
     ]
    }
   ],
   "source": [
    "# Write your code here\n",
    "principal =int(input(\"Enter principal : \"))\n",
    "rate = float(input(\"Enter Rate : \"))\n",
    "time =int(input(\"Enter time: \"))\n",
    "Simple_interest = (principal * rate * time)/100\n",
    "print(\"Simple interest is : \",Simple_interest)"
   ]
  },
  {
   "cell_type": "markdown",
   "metadata": {
    "id": "LMy0BTUktYKa"
   },
   "source": [
    "### Q6:- Write a program that will tell the number of dogs and chicken are there when the user will provide the value of total heads and legs.\n",
    "\n",
    "For example:\n",
    "Input:\n",
    "heads -> 4\n",
    "legs -> 12\n",
    "<br>\n",
    "Output:\n",
    "dogs -> 2\n",
    "chicken -> 2\n",
    "\n",
    "\n",
    "\n"
   ]
  },
  {
   "cell_type": "code",
   "execution_count": 19,
   "metadata": {
    "colab": {
     "base_uri": "https://localhost:8080/"
    },
    "id": "XSBvJoA4tXaG",
    "outputId": "0d5238aa-46c5-4145-ee46-b665435a3d96"
   },
   "outputs": [
    {
     "name": "stdout",
     "output_type": "stream",
     "text": [
      "Enter the total number of heads:4\n",
      "Enter the total number of legs:12\n",
      "2 2\n"
     ]
    }
   ],
   "source": [
    "# Write your code here\n",
    "heads = int(input('Enter the total number of heads:'))\n",
    "legs = int(input('Enter the total number of legs:'))\n",
    "if legs % 2 !=0 or heads ==0 or heads > legs:\n",
    "   print('No solution')\n",
    "else:  \n",
    "   d = int((legs + (-2*heads))/2)\n",
    "   c = int(heads - d)\n",
    "   print('{} {}'.format(c,d))\n",
    "   \n",
    "#REF https://brainly.in/question/10498755"
   ]
  },
  {
   "cell_type": "markdown",
   "metadata": {
    "id": "gJ7C5kZYt4BP"
   },
   "source": [
    "### Q7:- Write a program to find the sum of squares of first n natural numbers where n will be provided by the user."
   ]
  },
  {
   "cell_type": "markdown",
   "metadata": {
    "id": "yD6tRpN_7niJ"
   },
   "source": []
  },
  {
   "cell_type": "code",
   "execution_count": 52,
   "metadata": {
    "colab": {
     "base_uri": "https://localhost:8080/"
    },
    "id": "D1LPITuM6J3z",
    "outputId": "6c249de7-fa6f-430d-e2d3-57900b1317bd"
   },
   "outputs": [
    {
     "name": "stdout",
     "output_type": "stream",
     "text": [
      "Enter the number : 10\n",
      "385.0\n"
     ]
    }
   ],
   "source": [
    "n =int(input(\"Enter the number : \"))\n",
    "sum =n*(n+1)*(2*n+1)/6\n",
    "print(sum)"
   ]
  },
  {
   "cell_type": "markdown",
   "metadata": {
    "id": "FHrMM7g-yG1h"
   },
   "source": [
    "### Q8:- Given the first 2 terms of an Arithmetic Series.Find the Nth term of the series. Assume all inputs are provided by the user."
   ]
  },
  {
   "cell_type": "code",
   "execution_count": 53,
   "metadata": {
    "colab": {
     "base_uri": "https://localhost:8080/"
    },
    "id": "go4_kmZmyVSx",
    "outputId": "d474f290-dbb5-4742-fa2e-102b207cb52d"
   },
   "outputs": [
    {
     "name": "stdout",
     "output_type": "stream",
     "text": [
      "enter first term3\n",
      "enter second term6\n",
      "Enter the value of n5\n",
      "15\n"
     ]
    }
   ],
   "source": [
    "#nth_term = first_term + (num_of_term-1)*common_diff\n",
    "first_term =int(input(\"enter first term  : \"))\n",
    "second_term =int(input(\"enter second term : \"))\n",
    "n = int(input(\"Enter the value of n : \"))\n",
    "\n",
    "d = second_term - first_term\n",
    "an = first_term + (n-1)*d\n",
    "print(an)"
   ]
  },
  {
   "cell_type": "markdown",
   "metadata": {
    "id": "QgyRX_es1oum"
   },
   "source": [
    "### Q9:- Given 2 fractions, find the sum of those 2 fractions.Take the numerator and denominator values of the fractions from the user."
   ]
  },
  {
   "cell_type": "code",
   "execution_count": 54,
   "metadata": {
    "colab": {
     "base_uri": "https://localhost:8080/"
    },
    "id": "X05xqFS1yW16",
    "outputId": "605a8d02-57cd-4970-b466-dd1099c19b6e"
   },
   "outputs": [
    {
     "name": "stdout",
     "output_type": "stream",
     "text": [
      "Enter the numerator for 1st number : 2\n",
      "Enter the denominator for 1st number : 3\n",
      "Enter the numerator for 2nd number : 4\n",
      "Enter the denominator for 2nd number : 5\n",
      "22/15\n"
     ]
    }
   ],
   "source": [
    "# Write your code here\n",
    "\n",
    "n1 = int(input(\"Enter the numerator for 1st number : \"))\n",
    "d1 = int(input(\"Enter the denominator for 1st number : \"))\n",
    "n2 = int(input(\"Enter the numerator for 2nd number : \"))\n",
    "d2 = int(input(\"Enter the denominator for 2nd number : \"))\n",
    "\n",
    "rn = n1*d2 +n2*d1\n",
    "\n",
    "rd = d1*d2\n",
    "\n",
    "print(\"{}/{}\".format(rn,rd))\n"
   ]
  },
  {
   "cell_type": "markdown",
   "metadata": {
    "id": "eaql38ln13u7"
   },
   "source": [
    "### Q10:- Given the height, width and breadth of a milk tank, you have to find out how many glasses of milk can be obtained? Assume all the inputs are provided by the user.\n",
    "\n",
    "\n",
    "\n",
    "Input:<br>\n",
    "Dimensions of the milk tank<br>\n",
    "H = 20cm, L = 20cm, B = 20cm\n",
    "<br><br>\n",
    "Dimensions of the glass<br>\n",
    "h = 3cm, r = 1cm"
   ]
  },
  {
   "cell_type": "code",
   "execution_count": 60,
   "metadata": {
    "colab": {
     "base_uri": "https://localhost:8080/"
    },
    "id": "FePZqno74eWv",
    "outputId": "c70452b4-bfe9-469b-a6ee-6fa4b4a361eb"
   },
   "outputs": [
    {
     "name": "stdout",
     "output_type": "stream",
     "text": [
      "enter height of tank: 9\n",
      "enter Bredth of tank : 9\n",
      "enter length of tank : 9\n",
      "enter height of glass : 2\n",
      "enter radius of glass : 2\n",
      "Volume of tank is :  729.0\n",
      "Volume of glass is :  25.12\n",
      "Num of glass =  29\n"
     ]
    }
   ],
   "source": [
    "# Write your code here\n",
    "import math\n",
    "h_t = float(input(\"enter height of tank: \"))\n",
    "b_t = float(input(\"enter Bredth of tank : \"))\n",
    "l_t = float(input(\"enter length of tank : \"))\n",
    "\n",
    "h_g = float(input(\"enter height of glass : \"))\n",
    "r_g = float(input(\"enter radius of glass : \"))\n",
    "\n",
    "vol_tank =h_t*b_t*l_t\n",
    "print(\"Volume of tank is : \",vol_tank)\n",
    "\n",
    "vol_glass = 3.14 * r_g *r_g*h_g\n",
    "print(\"Volume of glass is : \",vol_glass)\n",
    "\n",
    "print(\"Num of glass = \" ,math.floor(vol_tank/vol_glass))\n"
   ]
  },
  {
   "cell_type": "code",
   "execution_count": null,
   "metadata": {
    "id": "rV9pJOG1BD_w"
   },
   "outputs": [],
   "source": []
  }
 ],
 "metadata": {
  "colab": {
   "provenance": []
  },
  "kernelspec": {
   "display_name": "Python 3 (ipykernel)",
   "language": "python",
   "name": "python3"
  },
  "language_info": {
   "codemirror_mode": {
    "name": "ipython",
    "version": 3
   },
   "file_extension": ".py",
   "mimetype": "text/x-python",
   "name": "python",
   "nbconvert_exporter": "python",
   "pygments_lexer": "ipython3",
   "version": "3.10.6"
  }
 },
 "nbformat": 4,
 "nbformat_minor": 1
}
