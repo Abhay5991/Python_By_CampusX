{
  "nbformat": 4,
  "nbformat_minor": 0,
  "metadata": {
    "colab": {
      "provenance": []
    },
    "kernelspec": {
      "name": "python3",
      "display_name": "Python 3"
    },
    "language_info": {
      "name": "python"
    }
  },
  "cells": [
    {
      "cell_type": "markdown",
      "source": [
        "# Task : Session 1\n",
        "Solve these questions own your own and try to test yourself what you have learned in the session.\n",
        "\n",
        "Happy Learning!"
      ],
      "metadata": {
        "id": "A05OG15VqOPF"
      }
    },
    {
      "cell_type": "markdown",
      "source": [
        "### Q1 :- Print the given strings as per stated format.\n",
        "\n",
        "**Given strings**: \n",
        "```\n",
        "\"Data\" \"Science\" \"Mentorship\" \"Program\" \n",
        "\"By\" \"CampusX\"\n",
        "```\n",
        "**Output**: \n",
        "``` \n",
        "Data-Science-Mentorship-Program-started-By-CampusX\n",
        "```\n",
        "\n",
        "Concept- [Seperator and End]"
      ],
      "metadata": {
        "id": "2doIXf8bqe9_"
      }
    },
    {
      "cell_type": "code",
      "source": [
        "# Write your code here\n",
        "print(\"Data\", \"Science\" ,\"Mentorship\", \"Program\" ,sep=\"-\",end =\"-started-\")\n",
        "print(\"By\" ,\"CampusX\",sep=\"-\")"
      ],
      "metadata": {
        "id": "-em6d3KErDtp",
        "colab": {
          "base_uri": "https://localhost:8080/"
        },
        "outputId": "43ce246d-972d-4fa4-beeb-d0b638be2673"
      },
      "execution_count": 39,
      "outputs": [
        {
          "output_type": "stream",
          "name": "stdout",
          "text": [
            "Data-Science-Mentorship-Program-started-By-CampusX\n"
          ]
        }
      ]
    },
    {
      "cell_type": "markdown",
      "source": [
        "### Q2:- Write a program that will convert celsius value to fahrenheit."
      ],
      "metadata": {
        "id": "1KUpN7ZTrC3_"
      }
    },
    {
      "cell_type": "code",
      "source": [
        "# Write your code here\n",
        "celsius = float(input(\"Temperature value in degree Celsius: \" ))  \n",
        "Fahrenheit = (celsius * 9/5) + 32  \n",
        "    \n",
        "# print the result  \n",
        "print('The {} degree Celsius is equal to: {} Fahrenheit'  \n",
        "      .format(celsius, Fahrenheit))    "
      ],
      "metadata": {
        "id": "yxKYhYQiqWfj",
        "colab": {
          "base_uri": "https://localhost:8080/"
        },
        "outputId": "8cead28d-b330-4ccd-b84c-92ee825125a2"
      },
      "execution_count": 41,
      "outputs": [
        {
          "output_type": "stream",
          "name": "stdout",
          "text": [
            "Temperature value in degree Celsius: 43\n",
            "The 43.0 degree Celsius is equal to: 109.4 Fahrenheit\n"
          ]
        }
      ]
    },
    {
      "cell_type": "markdown",
      "source": [
        "### Q3:- Take 2 numbers as input from the user.Write a program to swap the numbers without using any special python syntax."
      ],
      "metadata": {
        "id": "RLrOBBJurLB2"
      }
    },
    {
      "cell_type": "code",
      "source": [
        "# Write your code here\n",
        "a=input(\"enter a: \")\n",
        "b=input(\"enter b: \")\n",
        "a,b=b,a\n",
        "print(a,b)"
      ],
      "metadata": {
        "id": "yPn7if0TrJ4F",
        "colab": {
          "base_uri": "https://localhost:8080/"
        },
        "outputId": "242765ac-8c26-4308-b35d-8341fd6a7785"
      },
      "execution_count": 9,
      "outputs": [
        {
          "output_type": "stream",
          "name": "stdout",
          "text": [
            "enter a: 22\n",
            "enter b: 33\n",
            "33 22\n"
          ]
        }
      ]
    },
    {
      "cell_type": "code",
      "source": [
        "a=3\n",
        "b=4\n",
        "temp=a\n",
        "a=b\n",
        "b=temp\n",
        "print(a,b)"
      ],
      "metadata": {
        "colab": {
          "base_uri": "https://localhost:8080/"
        },
        "id": "meSw4uR905_N",
        "outputId": "16ad4080-246b-42a0-b0b7-5d3a9097cacd"
      },
      "execution_count": 42,
      "outputs": [
        {
          "output_type": "stream",
          "name": "stdout",
          "text": [
            "4 3\n"
          ]
        }
      ]
    },
    {
      "cell_type": "markdown",
      "source": [
        "34\n",
        "### Q4:- Write a program to find the euclidean distance between two coordinates.Take both the coordinates from the user as input."
      ],
      "metadata": {
        "id": "waLCP1bjr7ML"
      }
    },
    {
      "cell_type": "code",
      "source": [
        "# Write your code here\n",
        "x1=int(input(\"enter x cor of fist point: \"))\n",
        "x2=int(input(\"enter x cpr of sencon pont: \"))\n",
        "y1=int(input(\"enter y cor of ist point : \"))\n",
        "y2=int(input(\"enter y cod of second point: \"))\n",
        "distance=((x1-x2)**2+(y1-y2)**2)**0.5\n",
        "print(\"distance is :\",distance)"
      ],
      "metadata": {
        "id": "Pl1Sv-xnrxnH",
        "colab": {
          "base_uri": "https://localhost:8080/"
        },
        "outputId": "2c2f3cfd-efc0-429c-8ca5-b2857be9a138"
      },
      "execution_count": 46,
      "outputs": [
        {
          "output_type": "stream",
          "name": "stdout",
          "text": [
            "enter x cor of fist point: 2\n",
            "enter x cpr of sencon pont: 3\n",
            "enter y cor of ist point : 4\n",
            "enter y cod of second point: 5\n",
            "distance is : 1.4142135623730951\n"
          ]
        }
      ]
    },
    {
      "cell_type": "markdown",
      "source": [
        "33### Q5:- Write a program to find the simple interest when the value of principle,rate of interest and time period is provided by the user.\n"
      ],
      "metadata": {
        "id": "VLrhg-FRsHjR"
      }
    },
    {
      "cell_type": "code",
      "source": [
        "# Write your code here\n",
        "principal =int(input(\"Enter principal : \"))\n",
        "rate = float(input(\"Enter Rate : \"))\n",
        "time =int(input(\"Enter time: \"))\n",
        "Simple_interest = (principal * rate * time)/100\n",
        "print(\"Simple interest is : \",Simple_interest)"
      ],
      "metadata": {
        "id": "s40DlReZsTmY",
        "colab": {
          "base_uri": "https://localhost:8080/"
        },
        "outputId": "849a25bc-f33c-454f-caea-43214457baa5"
      },
      "execution_count": 18,
      "outputs": [
        {
          "output_type": "stream",
          "name": "stdout",
          "text": [
            "Enter principal : 1000\n",
            "Enter Rate : 10\n",
            "Enter time: 5\n",
            "Simple interest is :  500.0\n"
          ]
        }
      ]
    },
    {
      "cell_type": "markdown",
      "source": [
        "### Q6:- Write a program that will tell the number of dogs and chicken are there when the user will provide the value of total heads and legs.\n",
        "\n",
        "For example:\n",
        "Input:\n",
        "heads -> 4\n",
        "legs -> 12\n",
        "<br>\n",
        "Output:\n",
        "dogs -> 2\n",
        "chicken -> 2\n",
        "\n",
        "\n",
        "\n"
      ],
      "metadata": {
        "id": "LMy0BTUktYKa"
      }
    },
    {
      "cell_type": "code",
      "source": [
        "# Write your code here\n",
        "heads = int(input('Enter the total number of heads:'))\n",
        "legs = int(input('Enter the total number of legs:'))\n",
        "if legs % 2 !=0 or heads ==0 or heads > legs:\n",
        "   print('No solution')\n",
        "else:  \n",
        "   d = int((legs + (-2*heads))/2)\n",
        "   c = int(heads - d)\n",
        "   print('{} {}'.format(c,d))\n",
        "   \n",
        "#REF https://brainly.in/question/10498755"
      ],
      "metadata": {
        "id": "XSBvJoA4tXaG",
        "colab": {
          "base_uri": "https://localhost:8080/"
        },
        "outputId": "0d5238aa-46c5-4145-ee46-b665435a3d96"
      },
      "execution_count": 19,
      "outputs": [
        {
          "output_type": "stream",
          "name": "stdout",
          "text": [
            "Enter the total number of heads:4\n",
            "Enter the total number of legs:12\n",
            "2 2\n"
          ]
        }
      ]
    },
    {
      "cell_type": "markdown",
      "source": [
        "### Q7:- Write a program to find the sum of squares of first n natural numbers where n will be provided by the user."
      ],
      "metadata": {
        "id": "gJ7C5kZYt4BP"
      }
    },
    {
      "cell_type": "markdown",
      "source": [],
      "metadata": {
        "id": "yD6tRpN_7niJ"
      }
    },
    {
      "cell_type": "code",
      "source": [
        "n =int(input(\"Enter the number : \"))\n",
        "sum =n*(n+1)*(2*n+1)/6\n",
        "print(sum)"
      ],
      "metadata": {
        "id": "D1LPITuM6J3z",
        "outputId": "6c249de7-fa6f-430d-e2d3-57900b1317bd",
        "colab": {
          "base_uri": "https://localhost:8080/"
        }
      },
      "execution_count": 52,
      "outputs": [
        {
          "output_type": "stream",
          "name": "stdout",
          "text": [
            "Enter the number : 10\n",
            "385.0\n"
          ]
        }
      ]
    },
    {
      "cell_type": "markdown",
      "source": [
        "### Q8:- Given the first 2 terms of an Arithmetic Series.Find the Nth term of the series. Assume all inputs are provided by the user."
      ],
      "metadata": {
        "id": "FHrMM7g-yG1h"
      }
    },
    {
      "cell_type": "code",
      "source": [
        "#nth_term = first_term + (num_of_term-1)*common_diff\n",
        "first_term =int(input(\"enter first term  : \"))\n",
        "second_term =int(input(\"enter second term : \"))\n",
        "n = int(input(\"Enter the value of n : \"))\n",
        "\n",
        "d = second_term - first_term\n",
        "an = first_term + (n-1)*d\n",
        "print(an)"
      ],
      "metadata": {
        "id": "go4_kmZmyVSx",
        "colab": {
          "base_uri": "https://localhost:8080/"
        },
        "outputId": "d474f290-dbb5-4742-fa2e-102b207cb52d"
      },
      "execution_count": 53,
      "outputs": [
        {
          "output_type": "stream",
          "name": "stdout",
          "text": [
            "enter first term3\n",
            "enter second term6\n",
            "Enter the value of n5\n",
            "15\n"
          ]
        }
      ]
    },
    {
      "cell_type": "markdown",
      "source": [
        "### Q9:- Given 2 fractions, find the sum of those 2 fractions.Take the numerator and denominator values of the fractions from the user."
      ],
      "metadata": {
        "id": "QgyRX_es1oum"
      }
    },
    {
      "cell_type": "code",
      "source": [
        "# Write your code here\n",
        "\n",
        "n1 = int(input(\"Enter the numerator for 1st number : \"))\n",
        "d1 = int(input(\"Enter the denominator for 1st number : \"))\n",
        "n2 = int(input(\"Enter the numerator for 2nd number : \"))\n",
        "d2 = int(input(\"Enter the denominator for 2nd number : \"))\n",
        "\n",
        "rn = n1*d2 +n2*d1\n",
        "\n",
        "rd = d1*d2\n",
        "\n",
        "print(\"{}/{}\".format(rn,rd))\n"
      ],
      "metadata": {
        "id": "X05xqFS1yW16",
        "colab": {
          "base_uri": "https://localhost:8080/"
        },
        "outputId": "605a8d02-57cd-4970-b466-dd1099c19b6e"
      },
      "execution_count": 54,
      "outputs": [
        {
          "output_type": "stream",
          "name": "stdout",
          "text": [
            "Enter the numerator for 1st number : 2\n",
            "Enter the denominator for 1st number : 3\n",
            "Enter the numerator for 2nd number : 4\n",
            "Enter the denominator for 2nd number : 5\n",
            "22/15\n"
          ]
        }
      ]
    },
    {
      "cell_type": "markdown",
      "source": [
        "### Q10:- Given the height, width and breadth of a milk tank, you have to find out how many glasses of milk can be obtained? Assume all the inputs are provided by the user.\n",
        "\n",
        "\n",
        "\n",
        "Input:<br>\n",
        "Dimensions of the milk tank<br>\n",
        "H = 20cm, L = 20cm, B = 20cm\n",
        "<br><br>\n",
        "Dimensions of the glass<br>\n",
        "h = 3cm, r = 1cm"
      ],
      "metadata": {
        "id": "eaql38ln13u7"
      }
    },
    {
      "cell_type": "code",
      "source": [
        "# Write your code here\n",
        "h_t = float(input(\"enter height of tank: \"))\n",
        "b_t = float(input(\"enter Bredth of tank : \"))\n",
        "l_t = float(input(\"enter length of tank : \"))\n",
        "\n",
        "h_g = float(input(\"enter height of glass : \"))\n",
        "r_g = float(input(\"enter radius of glass : \"))\n",
        "\n",
        "vol_tank =h_t*b_t*l_t\n",
        "print(\"Volume of tank is : \",vol_tank)\n",
        "\n",
        "vol_glass = 3.14 * r_g *r_g*h_g\n",
        "print(\"Volume of glass is : \",vol_glass)\n",
        "\n",
        "print(\"Num of glass = \" ,vol_tank/vol_glass)\n"
      ],
      "metadata": {
        "id": "FePZqno74eWv",
        "colab": {
          "base_uri": "https://localhost:8080/"
        },
        "outputId": "c0eb3cb7-65d7-42e8-86c0-c183990bce9e"
      },
      "execution_count": 59,
      "outputs": [
        {
          "output_type": "stream",
          "name": "stdout",
          "text": [
            "enter height of tank: 9\n",
            "enter Bredth of tank : 9\n",
            "enter length of tank : 9\n",
            "enter height of glass : 2\n",
            "enter radius of glass : 3\n",
            "Volume of tank is :  729.0\n",
            "Volume of glass is :  56.519999999999996\n",
            "Num of glass =  12.898089171974522\n"
          ]
        }
      ]
    },
    {
      "cell_type": "code",
      "source": [],
      "metadata": {
        "id": "rV9pJOG1BD_w"
      },
      "execution_count": null,
      "outputs": []
    }
  ]
}