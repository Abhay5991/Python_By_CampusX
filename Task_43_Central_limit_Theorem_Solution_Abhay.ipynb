{
 "cells": [
  {
   "cell_type": "markdown",
   "metadata": {},
   "source": [
    "### Q1. A company claims that their email marketing campaign has a 15% click-through rate. If you randomly select 100 people to receive the email, what is the probability that exactly 20 will click through to the website?"
   ]
  },
  {
   "cell_type": "code",
   "execution_count": 1,
   "metadata": {
    "id": "oF5E7XY8iKMA"
   },
   "outputs": [
    {
     "name": "stdout",
     "output_type": "stream",
     "text": [
      "Probability of exactly 20 click-throughs using binomial distribution: 0.0402\n",
      "Probability of exactly 20 click-throughs using normal approximation: 0.0420\n"
     ]
    }
   ],
   "source": [
    "from scipy.stats import binom, norm\n",
    "\n",
    "n = 100  # number of trials\n",
    "p = 0.15  # probability of success\n",
    "k = 20  # number of successes\n",
    "\n",
    "# Probability using binomial distribution\n",
    "p_binom = binom.pmf(k, n, p)\n",
    "\n",
    "# Probability using normal approximation\n",
    "mean = n * p\n",
    "variance = n * p * (1 - p)\n",
    "std_dev = variance ** 0.5\n",
    "p_norm = norm.cdf((k + 0.5 - mean) / std_dev) - norm.cdf((k - 0.5 - mean) / std_dev)\n",
    "\n",
    "print(f\"Probability of exactly {k} click-throughs using binomial distribution: {p_binom:.4f}\")\n",
    "print(f\"Probability of exactly {k} click-throughs using normal approximation: {p_norm:.4f}\")\n"
   ]
  },
  {
   "cell_type": "markdown",
   "metadata": {},
   "source": [
    "### Q2 A researcher is investigating whether a new medication improves patient outcomes. The medication has a success rate of 75%. If the researcher enrolls 50 patients in the study, what is the probability that fewer than 35 will have a positive outcome?"
   ]
  },
  {
   "cell_type": "code",
   "execution_count": 2,
   "metadata": {},
   "outputs": [
    {
     "name": "stdout",
     "output_type": "stream",
     "text": [
      "Probability of fewer than 35 patients having a positive outcome: 0.1630832714626037\n"
     ]
    }
   ],
   "source": [
    "from scipy.stats import binom\n",
    "\n",
    "n = 50  # number of patients\n",
    "p = 0.75  # success rate of medication\n",
    "\n",
    "x = 34  # number of patients with positive outcome\n",
    "\n",
    "# calculate the probability using the binomial distribution\n",
    "prob = sum([binom.pmf(i, n, p) for i in range(x + 1)])\n",
    "\n",
    "print(\"Probability of fewer than 35 patients having a positive outcome:\", prob)\n"
   ]
  },
  {
   "cell_type": "markdown",
   "metadata": {},
   "source": [
    "### Q3. A website offers a premium subscription service with a 20% sign-up rate. If you randomly select 500 visitors to the website, what is the probability that between 90 and 110 will sign up for the premium service?"
   ]
  },
  {
   "cell_type": "code",
   "execution_count": 3,
   "metadata": {},
   "outputs": [
    {
     "name": "stdout",
     "output_type": "stream",
     "text": [
      "The probability that between 90 and 110 visitors will sign up for the premium service is: 0.7364475227170273\n"
     ]
    }
   ],
   "source": [
    "import scipy.stats as stats\n",
    "\n",
    "n = 500\n",
    "p = 0.2\n",
    "mu = n * p\n",
    "sigma = (n * p * (1 - p)) ** 0.5\n",
    "\n",
    "z1 = (90 - mu) / sigma\n",
    "z2 = (110 - mu) / sigma\n",
    "\n",
    "prob = stats.norm.cdf(z2) - stats.norm.cdf(z1)\n",
    "\n",
    "print(\"The probability that between 90 and 110 visitors will sign up for the premium service is:\", prob)\n"
   ]
  },
  {
   "cell_type": "markdown",
   "metadata": {},
   "source": [
    "### Q4 A school district is investigating the effectiveness of a new reading program. The program has a success rate of 70%. If the district enrolls 200 students in the program, what is the probability that more than 140 will show significant improvement in reading skills?"
   ]
  },
  {
   "cell_type": "code",
   "execution_count": 4,
   "metadata": {},
   "outputs": [
    {
     "name": "stdout",
     "output_type": "stream",
     "text": [
      "The probability that more than 140 students will show significant improvement in reading skills is: 0.5\n"
     ]
    }
   ],
   "source": [
    "import scipy.stats as stats\n",
    "\n",
    "n = 200\n",
    "p = 0.7\n",
    "mu = n * p\n",
    "sigma = (n * p * (1 - p)) ** 0.5\n",
    "\n",
    "z = (140 - mu) / sigma\n",
    "\n",
    "prob = 1 - stats.norm.cdf(z)\n",
    "\n",
    "print(\"The probability that more than 140 students will show significant improvement in reading skills is:\", prob)\n"
   ]
  },
  {
   "cell_type": "markdown",
   "metadata": {},
   "source": [
    "### Q5 A factory produces electronic components with a defect rate of 5%. If a shipment of 200 components is sent out, what is the probability that fewer than 10 will be defective?"
   ]
  },
  {
   "cell_type": "code",
   "execution_count": 5,
   "metadata": {},
   "outputs": [
    {
     "name": "stdout",
     "output_type": "stream",
     "text": [
      "The probability that fewer than 10 components will be defective is: 0.43556574579857915\n"
     ]
    }
   ],
   "source": [
    "import scipy.stats as stats\n",
    "\n",
    "n = 200\n",
    "p = 0.05\n",
    "mu = n * p\n",
    "sigma = (n * p * (1 - p)) ** 0.5\n",
    "\n",
    "z = (9.5 - mu) / sigma\n",
    "\n",
    "prob = stats.norm.cdf(z)\n",
    "\n",
    "print(\"The probability that fewer than 10 components will be defective is:\", prob)\n"
   ]
  },
  {
   "cell_type": "markdown",
   "metadata": {},
   "source": [
    "### Q.6 A survey shows that 70% of people prefer chocolate ice cream over vanilla ice cream. If you randomly survey one person, what is the probability that they prefer vanilla ice cream?"
   ]
  },
  {
   "cell_type": "raw",
   "metadata": {},
   "source": [
    "Ans:- If 70% of people prefer chocolate ice cream, then the remaining 30% must prefer vanilla ice cream. Therefore, the probability that a randomly surveyed person prefers vanilla ice cream is 30%, or 0.3.\n",
    "\n",
    "We can also express this mathematically using the probability notation: P(V) = 0.3, where V denotes the event that a person prefers vanilla ice cream."
   ]
  },
  {
   "cell_type": "markdown",
   "metadata": {},
   "source": [
    "### Q7 :- A software company releases a new product with a bug rate of 2%. If 10,000 copies of the product are sold, what is the probability that at least 250 will have a bug?"
   ]
  },
  {
   "cell_type": "code",
   "execution_count": 6,
   "metadata": {},
   "outputs": [
    {
     "name": "stdout",
     "output_type": "stream",
     "text": [
      "Probability that at least 250 copies have bugs: 0.00031671833727753285\n"
     ]
    }
   ],
   "source": [
    "from scipy.stats import binom\n",
    "\n",
    "n = 10000  # number of copies sold\n",
    "p = 0.02   # probability of a single copy having a bug\n",
    "\n",
    "# probability that at least 250 copies have bugs\n",
    "prob = 1 - binom.cdf(249, n, p)\n",
    "\n",
    "print(\"Probability that at least 250 copies have bugs:\", prob)\n"
   ]
  },
  {
   "cell_type": "markdown",
   "metadata": {},
   "source": [
    "### Q8 . According to data from the National Center for Health Statistics (NCHS), the average height for adult men aged 20 years and over in the United States is approximately 69.2 inches with a standard deviation of approximately 2.9 inches. If you randomly select a sample of 50 adult men aged 20 years and over, what is the probability that the sample mean height is greater than 70 inches?"
   ]
  },
  {
   "cell_type": "code",
   "execution_count": 1,
   "metadata": {},
   "outputs": [
    {
     "name": "stdout",
     "output_type": "stream",
     "text": [
      "Probability that the sample mean height is greater than 70 inches: 0.025549978630102443\n"
     ]
    }
   ],
   "source": [
    "from scipy.stats import norm\n",
    "\n",
    "mu = 69.2   # population mean\n",
    "sigma = 2.9 # population standard deviation\n",
    "n = 50      # sample size\n",
    "\n",
    "# probability that the sample mean height is greater than 70 inches\n",
    "prob = 1 - norm.cdf((70 - mu) / (sigma / (n**0.5)))\n",
    "\n",
    "print(\"Probability that the sample mean height is greater than 70 inches:\", prob)\n"
   ]
  },
  {
   "cell_type": "markdown",
   "metadata": {},
   "source": [
    "### Q9 Central Limit Theorem: 9. A company claims that the average salary of its employees is 75,000 with a standard deviation of 10,000. If you randomly select 100 employees, what is the probability that the sample mean salary is less than 72,500?"
   ]
  },
  {
   "cell_type": "code",
   "execution_count": 2,
   "metadata": {},
   "outputs": [
    {
     "name": "stdout",
     "output_type": "stream",
     "text": [
      "The probability that the sample mean salary is less than 72,500 is 0.0062\n"
     ]
    }
   ],
   "source": [
    "import math\n",
    "from scipy.stats import norm\n",
    "\n",
    "mu = 75000\n",
    "sigma = 10000\n",
    "n = 100\n",
    "x = 72500\n",
    "\n",
    "se = sigma / math.sqrt(n)\n",
    "z = (x - mu) / se\n",
    "\n",
    "p = norm.cdf(z)\n",
    "\n",
    "print(\"The probability that the sample mean salary is less than 72,500 is {:.4f}\".format(p))\n"
   ]
  },
  {
   "cell_type": "markdown",
   "metadata": {},
   "source": [
    "### Q10. A restaurant claims that the average wait time for a table is 15 minutes with a standard deviation of 3 minutes. If you randomly survey 50 customers, what is the probability that the sample mean wait time is greater than 16 minutes? Bernoulli Distribution:"
   ]
  },
  {
   "cell_type": "code",
   "execution_count": 4,
   "metadata": {},
   "outputs": [
    {
     "name": "stdout",
     "output_type": "stream",
     "text": [
      "The probability that the sample mean wait time is greater than 16 minutes is 0.0092\n"
     ]
    }
   ],
   "source": [
    "import math\n",
    "from scipy.stats import norm\n",
    "\n",
    "mu = 15\n",
    "sigma = 3 / math.sqrt(50)\n",
    "x = 16\n",
    "\n",
    "z = (x - mu) / sigma\n",
    "\n",
    "p = 1 - norm.cdf(z)\n",
    "\n",
    "print(\"The probability that the sample mean wait time is greater than 16 minutes is {:.4f}\".format(p))\n"
   ]
  },
  {
   "cell_type": "code",
   "execution_count": null,
   "metadata": {},
   "outputs": [],
   "source": []
  }
 ],
 "metadata": {
  "colab": {
   "provenance": []
  },
  "kernelspec": {
   "display_name": "Python 3 (ipykernel)",
   "language": "python",
   "name": "python3"
  },
  "language_info": {
   "codemirror_mode": {
    "name": "ipython",
    "version": 3
   },
   "file_extension": ".py",
   "mimetype": "text/x-python",
   "name": "python",
   "nbconvert_exporter": "python",
   "pygments_lexer": "ipython3",
   "version": "3.10.6"
  }
 },
 "nbformat": 4,
 "nbformat_minor": 1
}
