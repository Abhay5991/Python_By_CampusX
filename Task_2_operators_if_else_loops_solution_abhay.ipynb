{
 "cells": [
  {
   "cell_type": "markdown",
   "metadata": {
    "id": "w6RlOAXV2PWh"
   },
   "source": [
    "### `Problem 1`: Write a program that will give you in hand monthly salary after deduction on CTC - HRA(10%), DA(5%), PF(3%) and taxes deduction as below:\n",
    "\n",
    "> Salary(Lakhs) : Tax(%)\n",
    "\n",
    "*   Below 5 : 0%\n",
    "*   5-10 : 10%\n",
    "*   10-20 : 20%\n",
    "*   aboove 20 : 30%"
   ]
  },
  {
   "cell_type": "code",
   "execution_count": 1,
   "metadata": {
    "id": "7tMHvKYO2etI"
   },
   "outputs": [
    {
     "name": "stdout",
     "output_type": "stream",
     "text": [
      "Enter your CTC (in lakhs): 674897\n",
      "Your monthly salary after deductions is: 29245.54\n"
     ]
    }
   ],
   "source": [
    "# Write code here\n",
    "ctc = float(input(\"Enter your CTC (in lakhs): \"))\n",
    "hra = ctc * 0.1\n",
    "da = ctc * 0.05\n",
    "pf = ctc * 0.03\n",
    "tax_rate = 0\n",
    "\n",
    "if ctc < 5:\n",
    "    tax_rate = 0\n",
    "elif 5 <= ctc < 10:\n",
    "    tax_rate = 0.1\n",
    "elif 10 <= ctc < 20:\n",
    "    tax_rate = 0.2\n",
    "else:\n",
    "    tax_rate = 0.3\n",
    "\n",
    "tax = ctc * tax_rate\n",
    "monthly_salary = (ctc - hra - da - pf - tax) / 12\n",
    "\n",
    "print(\"Your monthly salary after deductions is:\", round(monthly_salary, 2))\n"
   ]
  },
  {
   "cell_type": "raw",
   "metadata": {},
   "source": [
    "In this program, we first take the input for the CTC (in lakhs) and calculate the HRA, DA, and PF deductions as 10%, 5%, and 3% of CTC, respectively. We then calculate the tax rate based on the CTC range using conditional statements. Finally, we calculate the monthly salary by deducting all the deductions and taxes from the CTC and dividing the remaining amount by 12 (for monthly salary).\n",
    "\n",
    "Note that we have used the round() function to round off the monthly salary to two decimal places."
   ]
  },
  {
   "cell_type": "markdown",
   "metadata": {
    "id": "tYzCGqwl2hfN"
   },
   "source": [
    "### `Problem 2`: Write a program that take a user input of three angles and will find out whether it can form a triangle or not."
   ]
  },
  {
   "cell_type": "code",
   "execution_count": 6,
   "metadata": {
    "id": "FYEqln-I2kxV"
   },
   "outputs": [
    {
     "name": "stdout",
     "output_type": "stream",
     "text": [
      "Enter the first angle: 20\n",
      "Enter the second angle: 30\n",
      "Enter the third angle: 130\n",
      "Yes, the angles can form a triangle.\n"
     ]
    }
   ],
   "source": [
    "# Write code here\n",
    "angle1 = float(input(\"Enter the first angle: \"))\n",
    "angle2 = float(input(\"Enter the second angle: \"))\n",
    "angle3 = float(input(\"Enter the third angle: \"))\n",
    "\n",
    "# Check if the sum of angles is 180 degrees, which is a requirement for a triangle\n",
    "if angle1 + angle2 + angle3 == 180:\n",
    "    print(\"Yes, the angles can form a triangle.\")\n",
    "else:\n",
    "    print(\"No, the angles cannot form a triangle.\")\n"
   ]
  },
  {
   "cell_type": "markdown",
   "metadata": {
    "id": "5vEpPh8C2pE4"
   },
   "source": [
    "### `Problem 3`: Write a program that will take user input of cost price and selling price and determines whether its a loss or a profit."
   ]
  },
  {
   "cell_type": "code",
   "execution_count": 8,
   "metadata": {
    "id": "jDwBXlkO2sfl"
   },
   "outputs": [
    {
     "name": "stdout",
     "output_type": "stream",
     "text": [
      "Enter the cost price: 300\n",
      "Enter the selling price: 120\n",
      "Loss! Loss percentage is 60.00%\n"
     ]
    }
   ],
   "source": [
    "# Write code here\n",
    "cost_price = float(input(\"Enter the cost price: \"))\n",
    "selling_price = float(input(\"Enter the selling price: \"))\n",
    "\n",
    "if selling_price > cost_price:\n",
    "    # Calculate profit percentage\n",
    "    profit_percentage = (selling_price - cost_price) / cost_price * 100\n",
    "    print(f\"Profit! Profit percentage is {profit_percentage:.2f}%\")\n",
    "elif selling_price < cost_price:\n",
    "    # Calculate loss percentage\n",
    "    loss_percentage = (cost_price - selling_price) / cost_price * 100\n",
    "    print(f\"Loss! Loss percentage is {loss_percentage:.2f}%\")\n",
    "else:\n",
    "    print(\"No profit, no loss.\")\n"
   ]
  },
  {
   "cell_type": "markdown",
   "metadata": {
    "id": "J_FG_cJW2ugT"
   },
   "source": [
    "### `Problem 4`: Write a menu-driven program - \n",
    "1. cm to ft \n",
    "2. km to miles \n",
    "3. USD to INR \n",
    "4. exit"
   ]
  },
  {
   "cell_type": "code",
   "execution_count": 13,
   "metadata": {
    "id": "yBHhaCGQ2zpD"
   },
   "outputs": [
    {
     "name": "stdout",
     "output_type": "stream",
     "text": [
      "Menu:\n",
      "1. Convert cm to ft\n",
      "2. Convert km to miles\n",
      "3. Convert USD to INR\n",
      "4. Exit\n",
      "Enter your choice: 1\n",
      "Enter length in cm: 183\n",
      "183.0 cm = 6.00 ft\n",
      "\n",
      "Menu:\n",
      "1. Convert cm to ft\n",
      "2. Convert km to miles\n",
      "3. Convert USD to INR\n",
      "4. Exit\n",
      "Enter your choice: 2\n",
      "Enter distance in km: 10\n",
      "10.0 km = 6.22 miles\n",
      "\n",
      "Menu:\n",
      "1. Convert cm to ft\n",
      "2. Convert km to miles\n",
      "3. Convert USD to INR\n",
      "4. Exit\n",
      "Enter your choice: 3\n",
      "Enter amount in USD: 1000\n",
      "1000.00 USD = 82220.00 INR\n",
      "\n",
      "Menu:\n",
      "1. Convert cm to ft\n",
      "2. Convert km to miles\n",
      "3. Convert USD to INR\n",
      "4. Exit\n",
      "Enter your choice: 4\n",
      "Exiting program...\n"
     ]
    }
   ],
   "source": [
    "# Write code here\n",
    "while True:\n",
    "    print(\"Menu:\")\n",
    "    print(\"1. Convert cm to ft\")\n",
    "    print(\"2. Convert km to miles\")\n",
    "    print(\"3. Convert USD to INR\")\n",
    "    print(\"4. Exit\")\n",
    "\n",
    "    choice = input(\"Enter your choice: \")\n",
    "\n",
    "    if choice == \"1\":\n",
    "        cm = float(input(\"Enter length in cm: \"))\n",
    "        ft = cm / 30.48\n",
    "        print(f\"{cm} cm = {ft:.2f} ft\\n\")\n",
    "    elif choice == \"2\":\n",
    "        km = float(input(\"Enter distance in km: \"))\n",
    "        miles = km / 1.609\n",
    "        print(f\"{km} km = {miles:.2f} miles\\n\")\n",
    "    elif choice == \"3\":\n",
    "        usd = float(input(\"Enter amount in USD: \"))\n",
    "        inr = usd * 82.22\n",
    "        print(f\"{usd:.2f} USD = {inr:.2f} INR\\n\")\n",
    "    elif choice == \"4\":\n",
    "        print(\"Exiting program...\")\n",
    "        break\n",
    "    else:\n",
    "        print(\"Invalid choice. Please enter a valid choice.\\n\")\n"
   ]
  },
  {
   "cell_type": "markdown",
   "metadata": {
    "id": "LJJ30_Yw27ZU"
   },
   "source": [
    "### `Problem 5` : Display Fibonacci series up to 10 terms.\n",
    "\n",
    "*Note: The Fibonacci Sequence is a series of numbers. The next number is found by adding up the two numbers before it. The first two numbers are 0 and 1. For example, 0, 1, 1, 2, 3, 5, 8, 13, 21. The next number in this series above is 13+21 = 34*"
   ]
  },
  {
   "cell_type": "code",
   "execution_count": 14,
   "metadata": {
    "id": "ae_1rpe52-5R"
   },
   "outputs": [
    {
     "name": "stdout",
     "output_type": "stream",
     "text": [
      "0\n",
      "1\n",
      "2\n",
      "3\n",
      "5\n",
      "8\n",
      "13\n",
      "21\n",
      "34\n",
      "55\n"
     ]
    }
   ],
   "source": [
    "# Write code here\n",
    "# initialize the first two terms of the series\n",
    "a, b = 0, 1\n",
    "\n",
    "# display the first term of the series\n",
    "print(a)\n",
    "\n",
    "# display the next 9 terms of the series\n",
    "for i in range(9):\n",
    "    # calculate the next term of the series\n",
    "    c = a + b\n",
    "    \n",
    "    # display the current term of the series\n",
    "    print(c)\n",
    "    \n",
    "    # update the values of a and b for the next iteration\n",
    "    a, b = b, c\n"
   ]
  },
  {
   "cell_type": "markdown",
   "metadata": {
    "id": "pk_I_S4m3PT5"
   },
   "source": [
    "### `Problem 6` - Find the factorial of a given number.\n",
    "\n",
    "Write a program to use the loop to find the factorial of a given number.\n",
    "\n",
    "The factorial (symbol: `!`) means to multiply all whole numbers from the chosen number down to 1.\n",
    "\n",
    "For example: calculate the factorial of 5\n",
    "\n",
    "```bash\n",
    "5! = 5 × 4 × 3 × 2 × 1 = 120\n",
    "```\n",
    "\n",
    "Output: \n",
    "\n",
    "```bash\n",
    "120\n",
    "```"
   ]
  },
  {
   "cell_type": "code",
   "execution_count": 15,
   "metadata": {
    "id": "lzXxHegx3Rkc"
   },
   "outputs": [
    {
     "name": "stdout",
     "output_type": "stream",
     "text": [
      "Enter a number: 5\n",
      "The factorial of 5 is 120\n"
     ]
    }
   ],
   "source": [
    "# Write code here\n",
    "# take input from the user\n",
    "num = int(input(\"Enter a number: \"))\n",
    "\n",
    "# initialize the factorial to 1\n",
    "factorial = 1\n",
    "\n",
    "# loop through each number from 1 to the given number\n",
    "for i in range(1, num+1):\n",
    "    # multiply the current factorial by the current number\n",
    "    factorial *= i\n",
    "\n",
    "# display the final factorial\n",
    "print(f\"The factorial of {num} is {factorial}\")\n"
   ]
  },
  {
   "cell_type": "markdown",
   "metadata": {
    "id": "-17IOi-g3UpU"
   },
   "source": [
    "### `Problem 7` - Reverse a given integer number.\n",
    "\n",
    "Example:\n",
    "\n",
    "`Input:`\n",
    "\n",
    "```bash\n",
    "76542\n",
    "```\n",
    "\n",
    "`Output:`\n",
    "\n",
    "```bash\n",
    "24567\n",
    "```"
   ]
  },
  {
   "cell_type": "code",
   "execution_count": 16,
   "metadata": {
    "id": "wJwLpKCr3aVA"
   },
   "outputs": [
    {
     "name": "stdout",
     "output_type": "stream",
     "text": [
      "Enter a number: 3467\n",
      "The reversed number is 7643\n"
     ]
    }
   ],
   "source": [
    "# Write code here\n",
    "# take input from the user\n",
    "num = int(input(\"Enter a number: \"))\n",
    "\n",
    "# initialize the reversed number to 0\n",
    "reversed_num = 0\n",
    "\n",
    "# loop through each digit of the number\n",
    "while num > 0:\n",
    "    # get the rightmost digit of the number\n",
    "    digit = num % 10\n",
    "    \n",
    "    # add the digit to the reversed number\n",
    "    reversed_num = (reversed_num * 10) + digit\n",
    "    \n",
    "    # remove the rightmost digit from the number\n",
    "    num //= 10\n",
    "\n",
    "# display the reversed number\n",
    "print(f\"The reversed number is {reversed_num}\")\n"
   ]
  },
  {
   "cell_type": "code",
   "execution_count": 17,
   "metadata": {},
   "outputs": [
    {
     "name": "stdout",
     "output_type": "stream",
     "text": [
      "Enter a number: 3456\n",
      "The reversed number is 6543\n"
     ]
    }
   ],
   "source": [
    "# take input from the user\n",
    "num = int(input(\"Enter a number: \"))\n",
    "\n",
    "# convert the number to a string and reverse it\n",
    "reversed_str = str(num)[::-1]\n",
    "\n",
    "# convert the reversed string back to an integer\n",
    "reversed_num = int(reversed_str)\n",
    "\n",
    "# display the reversed number\n",
    "print(f\"The reversed number is {reversed_num}\")\n"
   ]
  },
  {
   "cell_type": "markdown",
   "metadata": {
    "id": "-t8PJQaY3sHf"
   },
   "source": [
    "### `Problem 8`: Take a user input as integer N. Find out the sum from 1 to N. If any number if divisible by 5, then skip that number. And if the sum is greater than 300, don't need to calculate the sum further more. Print the final result. And don't use for loop to solve this problem.\n",
    "\n",
    "**Example 1:**\n",
    "\n",
    "`Input:`\n",
    "\n",
    "```bash\n",
    "30\n",
    "```\n",
    "\n",
    "`Output:`\n",
    "\n",
    "```bash\n",
    "276\n",
    "```"
   ]
  },
  {
   "cell_type": "code",
   "execution_count": 7,
   "metadata": {
    "id": "GZB6mGMP3ujT"
   },
   "outputs": [
    {
     "name": "stdout",
     "output_type": "stream",
     "text": [
      "Enter an integer: 51\n",
      "The sum is: 275\n"
     ]
    }
   ],
   "source": [
    "# Write code here\n",
    "N = int(input(\"Enter an integer: \"))\n",
    "sum = 0\n",
    "i = 1\n",
    "\n",
    "while i <= N+1:\n",
    "    if i % 5 == 0:\n",
    "        i += 1\n",
    "        continue\n",
    "    sum += i\n",
    "    i += 1\n",
    "    if sum > 300:\n",
    "        sum -=i\n",
    "        break\n",
    "\n",
    "print(\"The sum is:\", sum)\n"
   ]
  },
  {
   "cell_type": "markdown",
   "metadata": {
    "id": "Q7ggImeA3xm4"
   },
   "source": [
    "### `Problem 9`: Write a program that keeps on accepting a number from the user until the user enters Zero. Display the sum and average of all the numbers."
   ]
  },
  {
   "cell_type": "code",
   "execution_count": 19,
   "metadata": {
    "id": "t_YDSZDe4Kdo"
   },
   "outputs": [
    {
     "name": "stdout",
     "output_type": "stream",
     "text": [
      "Enter a number (enter 0 to stop): 3\n",
      "Enter a number (enter 0 to stop): 5\n",
      "Enter a number (enter 0 to stop): 1\n",
      "Enter a number (enter 0 to stop): 9\n",
      "Enter a number (enter 0 to stop): 3423\n",
      "Enter a number (enter 0 to stop): 0\n",
      "Sum: 3441.0\n",
      "Average: 688.2\n"
     ]
    }
   ],
   "source": [
    "# Write code here\n",
    "total = 0\n",
    "count = 0\n",
    "\n",
    "while True:\n",
    "    num = float(input(\"Enter a number (enter 0 to stop): \"))\n",
    "    if num == 0:\n",
    "        break\n",
    "    total += num\n",
    "    count += 1\n",
    "\n",
    "if count > 0:\n",
    "    average = total / count\n",
    "    print(f\"Sum: {total}\")\n",
    "    print(f\"Average: {average}\")\n",
    "else:\n",
    "    print(\"No numbers were entered.\")\n"
   ]
  },
  {
   "cell_type": "markdown",
   "metadata": {
    "id": "6EhvEMvm4R7s"
   },
   "source": [
    "###`Problem 9`: Write a program which will find all such numbers which are divisible by 7 but are not a multiple of 5, between 2000 and 3200 (both included). The numbers obtained should be printed in a comma-separated sequence on a single line."
   ]
  },
  {
   "cell_type": "code",
   "execution_count": 20,
   "metadata": {
    "id": "d6RgP1B34T6c"
   },
   "outputs": [
    {
     "name": "stdout",
     "output_type": "stream",
     "text": [
      "2002,2009,2016,2023,2037,2044,2051,2058,2072,2079,2086,2093,2107,2114,2121,2128,2142,2149,2156,2163,2177,2184,2191,2198,2212,2219,2226,2233,2247,2254,2261,2268,2282,2289,2296,2303,2317,2324,2331,2338,2352,2359,2366,2373,2387,2394,2401,2408,2422,2429,2436,2443,2457,2464,2471,2478,2492,2499,2506,2513,2527,2534,2541,2548,2562,2569,2576,2583,2597,2604,2611,2618,2632,2639,2646,2653,2667,2674,2681,2688,2702,2709,2716,2723,2737,2744,2751,2758,2772,2779,2786,2793,2807,2814,2821,2828,2842,2849,2856,2863,2877,2884,2891,2898,2912,2919,2926,2933,2947,2954,2961,2968,2982,2989,2996,3003,3017,3024,3031,3038,3052,3059,3066,3073,3087,3094,3101,3108,3122,3129,3136,3143,3157,3164,3171,3178,3192,3199\n"
     ]
    }
   ],
   "source": [
    "# Write code here\n",
    "result = []\n",
    "\n",
    "for i in range(2000, 3201):\n",
    "    if i % 7 == 0 and i % 5 != 0:\n",
    "        result.append(str(i))\n",
    "\n",
    "print(\",\".join(result))\n"
   ]
  },
  {
   "cell_type": "markdown",
   "metadata": {
    "id": "tYvmRR-G4Vp4"
   },
   "source": [
    "###`Problem 10`: Write a program, which will find all such numbers between 1000 and 3000 (both included) such that each digit of the number is an even number. The numbers obtained should be printed in a space-separated sequence on a single line.\n",
    "\n"
   ]
  },
  {
   "cell_type": "code",
   "execution_count": 21,
   "metadata": {
    "id": "k6Gs1kIf4k19"
   },
   "outputs": [
    {
     "name": "stdout",
     "output_type": "stream",
     "text": [
      "2000 2002 2004 2006 2008 2020 2022 2024 2026 2028 2040 2042 2044 2046 2048 2060 2062 2064 2066 2068 2080 2082 2084 2086 2088 2200 2202 2204 2206 2208 2220 2222 2224 2226 2228 2240 2242 2244 2246 2248 2260 2262 2264 2266 2268 2280 2282 2284 2286 2288 2400 2402 2404 2406 2408 2420 2422 2424 2426 2428 2440 2442 2444 2446 2448 2460 2462 2464 2466 2468 2480 2482 2484 2486 2488 2600 2602 2604 2606 2608 2620 2622 2624 2626 2628 2640 2642 2644 2646 2648 2660 2662 2664 2666 2668 2680 2682 2684 2686 2688 2800 2802 2804 2806 2808 2820 2822 2824 2826 2828 2840 2842 2844 2846 2848 2860 2862 2864 2866 2868 2880 2882 2884 2886 2888\n"
     ]
    }
   ],
   "source": [
    "# Write code here\n",
    "# define a function to check if all digits of a number are even\n",
    "def all_digits_even(num):\n",
    "    for digit in str(num):\n",
    "        if int(digit) % 2 != 0:\n",
    "            return False\n",
    "    return True\n",
    "\n",
    "# loop through the range of numbers and check if each one has all even digits\n",
    "result = []\n",
    "for num in range(1000, 3001):\n",
    "    if all_digits_even(num):\n",
    "        result.append(str(num))\n",
    "\n",
    "# print the resulting list as a space-separated string\n",
    "print(\" \".join(result))\n"
   ]
  },
  {
   "cell_type": "markdown",
   "metadata": {
    "id": "GV18IINT4mf5"
   },
   "source": [
    "###`Problem 11`: A robot moves in a plane starting from the original point (0,0). The robot can move toward UP, DOWN, LEFT and RIGHT with a given steps. \n",
    "The trace of robot movement is shown as the following:\n",
    "```\n",
    "UP 5\n",
    "DOWN 3\n",
    "LEFT 3\n",
    "RIGHT 2\n",
    "!\n",
    "```\n",
    "> The numbers after the direction are steps. \n",
    "\n",
    "> `!` means robot stop there.\n",
    "\n",
    "**Please write a program to compute the distance from current position after a sequence of movement and original point.** \n",
    "\n",
    "*If the distance is a float, then just print the nearest integer.*\n",
    "\n",
    "Example:\n",
    "\n",
    "`Input`:\n",
    "```\n",
    "UP 5\n",
    "DOWN 3\n",
    "LEFT 3\n",
    "RIGHT 2\n",
    "!\n",
    "```\n",
    "`Output`:\n",
    "```\n",
    "2\n",
    "```"
   ]
  },
  {
   "cell_type": "code",
   "execution_count": 8,
   "metadata": {
    "id": "6UNMC2aR4w5x"
   },
   "outputs": [
    {
     "name": "stdout",
     "output_type": "stream",
     "text": [
      "UP 5\n",
      "DOWN 5\n",
      "LEFT 5\n",
      "RIGHT 5\n",
      "!\n",
      "0\n"
     ]
    }
   ],
   "source": [
    "# Write code here\n",
    "import math\n",
    "\n",
    "x, y = 0, 0\n",
    "\n",
    "while True:\n",
    "    inp = input()\n",
    "    if inp == \"!\":\n",
    "        break\n",
    "    else:\n",
    "        direction, steps = inp.split()\n",
    "        steps = int(steps)\n",
    "        if direction == \"UP\":\n",
    "            y += steps\n",
    "        elif direction == \"DOWN\":\n",
    "            y -= steps\n",
    "        elif direction == \"LEFT\":\n",
    "            x -= steps\n",
    "        elif direction == \"RIGHT\":\n",
    "            x += steps\n",
    "\n",
    "distance = math.sqrt(x ** 2 + y ** 2)\n",
    "distance = round(distance)\n",
    "\n",
    "print(distance)\n"
   ]
  },
  {
   "cell_type": "code",
   "execution_count": 26,
   "metadata": {},
   "outputs": [
    {
     "name": "stdout",
     "output_type": "stream",
     "text": [
      "2 2 \n",
      "3 3\n",
      "!\n",
      "0\n"
     ]
    }
   ],
   "source": [
    "# initialize coordinates\n",
    "coords = {\"x\": 0, \"y\": 0}\n",
    "\n",
    "# loop until robot stops\n",
    "while True:\n",
    "    # take input\n",
    "    direction = input().split()\n",
    "\n",
    "    # break if input is \"!\"\n",
    "    if direction[0] == \"!\":\n",
    "        break\n",
    "\n",
    "    # update coordinates based on direction and steps\n",
    "    if direction[0] == \"UP\":\n",
    "        coords[\"y\"] += int(direction[1])\n",
    "    elif direction[0] == \"DOWN\":\n",
    "        coords[\"y\"] -= int(direction[1])\n",
    "    elif direction[0] == \"LEFT\":\n",
    "        coords[\"x\"] -= int(direction[1])\n",
    "    elif direction[0] == \"RIGHT\":\n",
    "        coords[\"x\"] += int(direction[1])\n",
    "\n",
    "# calculate distance from origin\n",
    "distance = int((coords[\"x\"] ** 2 + coords[\"y\"] ** 2) ** 0.5)\n",
    "\n",
    "# print output\n",
    "print(distance)\n"
   ]
  },
  {
   "cell_type": "markdown",
   "metadata": {
    "id": "3fsAIAhK5GYY"
   },
   "source": [
    "###`Problem 12`:Write a program to print whether a given number is a prime number or not"
   ]
  },
  {
   "cell_type": "code",
   "execution_count": 32,
   "metadata": {
    "id": "j6y91lxy5LZs"
   },
   "outputs": [
    {
     "name": "stdout",
     "output_type": "stream",
     "text": [
      "Enter a number: 3\n",
      "3 is a prime number\n"
     ]
    }
   ],
   "source": [
    "# Write code here\n",
    "num = int(input(\"Enter a number: \"))\n",
    "\n",
    "# check if number is greater than 1\n",
    "if num > 1:\n",
    "    # check for factors\n",
    "    for i in range(2, num):\n",
    "        if (num % i) == 0:\n",
    "            print(num, \"is not a prime number\")\n",
    "            break\n",
    "    else:\n",
    "        print(num, \"is a prime number\")\n",
    "\n",
    "# if input number is less than or equal to 1, it is not a prime number\n",
    "else:\n",
    "    print(num, \"is not a prime number\")\n"
   ]
  },
  {
   "cell_type": "markdown",
   "metadata": {
    "id": "asAbmbK-5NHv"
   },
   "source": [
    "###`Problem 13`:Print all the Armstrong numbers in a given range.\n",
    "Range will be provided by the user<br>\n",
    "Armstrong number is a number that is equal to the sum of cubes of its digits. For example 0, 1, 153, 370, 371 and 407 are the Armstrong numbers."
   ]
  },
  {
   "cell_type": "code",
   "execution_count": 46,
   "metadata": {
    "id": "PZuI67pm5jCT"
   },
   "outputs": [
    {
     "name": "stdout",
     "output_type": "stream",
     "text": [
      "Enter lower range: 100\n",
      "Enter upper range: 1000\n",
      "153\n",
      "370\n",
      "371\n",
      "407\n"
     ]
    }
   ],
   "source": [
    "# Write code here\n",
    "lower = int(input(\"Enter lower range: \"))\n",
    "upper = int(input(\"Enter upper range: \"))\n",
    "\n",
    "for num in range(lower, upper + 1):\n",
    "    # initialize sum and number of digits\n",
    "    sum = 0\n",
    "    n = len(str(num))\n",
    "\n",
    "    # find the sum of cubes of each digit\n",
    "    temp = num\n",
    "    while temp > 0:\n",
    "        digit = temp % 10\n",
    "        sum += digit ** n\n",
    "        temp //= 10\n",
    "\n",
    "    # check if the number is Armstrong\n",
    "    if num == sum:\n",
    "        print(num)\n"
   ]
  },
  {
   "cell_type": "markdown",
   "metadata": {
    "id": "ClCQZMqT7gK0"
   },
   "source": [
    "###`Problem 14`:Calculate the angle between the hour hand and minute hand.\n",
    "\n",
    "Note: There can be two angles between hands; we need to print a minimum of two. Also, we need to print the floor of the final result angle. For example, if the final angle is 10.61, we need to print 10.\n",
    "\n",
    "Input:<br>\n",
    "H = 9 , M = 0<br>\n",
    "Output:<br>\n",
    "90<br>\n",
    "Explanation:<br>\n",
    "The minimum angle between hour and minute\n",
    "hand when the time is 9 is 90 degress."
   ]
  },
  {
   "cell_type": "code",
   "execution_count": 39,
   "metadata": {},
   "outputs": [
    {
     "name": "stdout",
     "output_type": "stream",
     "text": [
      "Enter the hours: 9\n",
      "Enter the minutes: 10\n",
      "The minimum angle between hour and minute hand is: 145 degrees.\n"
     ]
    }
   ],
   "source": [
    "# Taking input of time in hours and minutes\n",
    "hours = int(input(\"Enter the hours: \"))\n",
    "minutes = int(input(\"Enter the minutes: \"))\n",
    "\n",
    "# Calculating the angle between the hour hand and minute hand\n",
    "hour_angle = (hours % 12 + minutes / 60) * 30\n",
    "minute_angle = minutes * 6\n",
    "angle = abs(hour_angle - minute_angle)\n",
    "\n",
    "# Printing the result\n",
    "print(\"The minimum angle between hour and minute hand is:\", int(min(angle, 360-angle)), \"degrees.\")\n"
   ]
  },
  {
   "cell_type": "code",
   "execution_count": 36,
   "metadata": {
    "id": "tNBTCZML7jy_"
   },
   "outputs": [],
   "source": [
    "# Write code here\n",
    "import math\n",
    "\n",
    "def calc_angle(hour, minute):\n",
    "    # Calculate position of hour hand\n",
    "    h_pos = (hour % 12) * 30 + (minute / 2)\n",
    "    \n",
    "    # Calculate position of minute hand\n",
    "    m_pos = minute * 6\n",
    "    \n",
    "    # Calculate angle between hour and minute hand\n",
    "    angle = abs(h_pos - m_pos)\n",
    "    \n",
    "    # Take the smaller angle\n",
    "    angle = min(angle, 360 - angle)\n",
    "    \n",
    "    # Print the floor of the angle\n",
    "    print(math.floor(angle))\n"
   ]
  },
  {
   "cell_type": "code",
   "execution_count": 37,
   "metadata": {},
   "outputs": [
    {
     "name": "stdout",
     "output_type": "stream",
     "text": [
      "90\n"
     ]
    }
   ],
   "source": [
    "calc_angle(9, 0)\n"
   ]
  },
  {
   "cell_type": "markdown",
   "metadata": {
    "id": "GwacF9Co72Qc"
   },
   "source": [
    "###`Problem 15`:Given two rectangles, find if the given two rectangles overlap or not. A rectangle is denoted by providing the x and y coordinates of two points: the left top corner and the right bottom corner of the rectangle. Two rectangles sharing a side are considered overlapping. (L1 and R1 are the extreme points of the first rectangle and L2 and R2 are the extreme points of the second rectangle).\n",
    "\n",
    "Note: It may be assumed that the rectangles are parallel to the coordinate axis.\n",
    "\n",
    "<img src='https://www.geeksforgeeks.org/wp-content/uploads/rectanglesOverlap.png' width='300' height='200'>"
   ]
  },
  {
   "cell_type": "code",
   "execution_count": 44,
   "metadata": {},
   "outputs": [
    {
     "name": "stdout",
     "output_type": "stream",
     "text": [
      "Enter coordinates of first rectangle (left, top, right, bottom): \n",
      "0 0 4 4\n",
      "Enter coordinates of second rectangle (left, top, right, bottom): \n",
      " 3 3 7 7\n",
      "The two rectangles overlap.\n"
     ]
    }
   ],
   "source": [
    "# Write code here\n",
    "# Input coordinates of two rectangles\n",
    "print(\"Enter coordinates of first rectangle (left, top, right, bottom): \")\n",
    "L1, T1, R1, B1 = map(int, input().split())\n",
    "\n",
    "print(\"Enter coordinates of second rectangle (left, top, right, bottom): \")\n",
    "L2, T2, R2, B2 = map(int, input().split())\n",
    "\n",
    "# Check if the two rectangles overlap\n",
    "if L1 > R2 or L2 > R1 or T1 > B2 or T2 > B1:\n",
    "    print(\"The two rectangles do not overlap.\")\n",
    "else:\n",
    "    print(\"The two rectangles overlap.\")\n"
   ]
  },
  {
   "cell_type": "code",
   "execution_count": null,
   "metadata": {},
   "outputs": [],
   "source": []
  }
 ],
 "metadata": {
  "colab": {
   "provenance": []
  },
  "kernelspec": {
   "display_name": "Python 3 (ipykernel)",
   "language": "python",
   "name": "python3"
  },
  "language_info": {
   "codemirror_mode": {
    "name": "ipython",
    "version": 3
   },
   "file_extension": ".py",
   "mimetype": "text/x-python",
   "name": "python",
   "nbconvert_exporter": "python",
   "pygments_lexer": "ipython3",
   "version": "3.10.6"
  }
 },
 "nbformat": 4,
 "nbformat_minor": 1
}
