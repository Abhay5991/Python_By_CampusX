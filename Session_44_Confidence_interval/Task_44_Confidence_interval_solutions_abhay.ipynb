{
 "cells": [
  {
   "cell_type": "markdown",
   "metadata": {
    "id": "XgzoYlFVitRx"
   },
   "source": [
    "### Question 1 :-  A company wants to estimate the average time spent by customers on their website per session. They collect a random sample of 100 customers and find that the sample mean time spent is 4.5 minutes with a sample standard deviation of 1.2 minutes. Calculate a 99% confidence interval for the true population mean time spent on the website per session."
   ]
  },
  {
   "cell_type": "code",
   "execution_count": 1,
   "metadata": {},
   "outputs": [
    {
     "name": "stdout",
     "output_type": "stream",
     "text": [
      "The 99% confidence interval for the true population mean time spent on the website per session is: (4.191, 4.809) minutes\n"
     ]
    }
   ],
   "source": [
    "import scipy.stats as stats\n",
    "import math\n",
    "\n",
    "# sample information\n",
    "n = 100\n",
    "sample_mean = 4.5\n",
    "sample_std = 1.2\n",
    "\n",
    "# calculate the standard error of the mean\n",
    "se = sample_std / math.sqrt(n)\n",
    "\n",
    "# calculate the critical value for a 99% confidence level\n",
    "alpha = 0.01  # 1 - confidence level\n",
    "cv = stats.norm.ppf(1 - alpha/2)\n",
    "\n",
    "# calculate the confidence interval\n",
    "lower_ci = sample_mean - cv * se\n",
    "upper_ci = sample_mean + cv * se\n",
    "\n",
    "# print the result\n",
    "print(\"The 99% confidence interval for the true population mean time spent on the website per session is: ({:.3f}, {:.3f}) minutes\".format(lower_ci, upper_ci))\n"
   ]
  },
  {
   "cell_type": "markdown",
   "metadata": {},
   "source": [
    "### Question 2: A car manufacturer is interested in estimating the mean gas mileage of their new SUV. A sample of 25 SUVs is taken, and their mean gas mileage is found to be 28.6 miles per gallon with a standard deviation of 2.8 miles per gallon. Calculate a 95% confidence interval for the true mean gas mileage of the SUV."
   ]
  },
  {
   "cell_type": "code",
   "execution_count": 2,
   "metadata": {},
   "outputs": [
    {
     "name": "stdout",
     "output_type": "stream",
     "text": [
      "The 95% confidence interval for the true mean gas mileage of the SUV is: (27.4442, 29.7558) miles per gallon\n"
     ]
    }
   ],
   "source": [
    "import scipy.stats as stats\n",
    "import math\n",
    "\n",
    "# sample information\n",
    "n = 25\n",
    "sample_mean = 28.6\n",
    "sample_std = 2.8\n",
    "\n",
    "# calculate the standard error of the mean\n",
    "se = sample_std / math.sqrt(n)\n",
    "\n",
    "# calculate the critical value for a 95% confidence level\n",
    "alpha = 0.05  # 1 - confidence level\n",
    "df = n - 1  # degrees of freedom\n",
    "cv = stats.t.ppf(1 - alpha/2, df)\n",
    "\n",
    "# calculate the confidence interval\n",
    "lower_ci = sample_mean - cv * se\n",
    "upper_ci = sample_mean + cv * se\n",
    "\n",
    "# print the result\n",
    "print(\"The 95% confidence interval for the true mean gas mileage of the SUV is: ({:.4f}, {:.4f}) miles per gallon\".format(lower_ci, upper_ci))\n"
   ]
  },
  {
   "cell_type": "code",
   "execution_count": 4,
   "metadata": {},
   "outputs": [],
   "source": [
    "import pandas as pd"
   ]
  },
  {
   "cell_type": "code",
   "execution_count": 6,
   "metadata": {},
   "outputs": [
    {
     "data": {
      "text/html": [
       "<div>\n",
       "<style scoped>\n",
       "    .dataframe tbody tr th:only-of-type {\n",
       "        vertical-align: middle;\n",
       "    }\n",
       "\n",
       "    .dataframe tbody tr th {\n",
       "        vertical-align: top;\n",
       "    }\n",
       "\n",
       "    .dataframe thead th {\n",
       "        text-align: right;\n",
       "    }\n",
       "</style>\n",
       "<table border=\"1\" class=\"dataframe\">\n",
       "  <thead>\n",
       "    <tr style=\"text-align: right;\">\n",
       "      <th></th>\n",
       "      <th>dt</th>\n",
       "      <th>AverageTemperature</th>\n",
       "      <th>AverageTemperatureUncertainty</th>\n",
       "      <th>Country</th>\n",
       "    </tr>\n",
       "  </thead>\n",
       "  <tbody>\n",
       "    <tr>\n",
       "      <th>0</th>\n",
       "      <td>1796-01-01</td>\n",
       "      <td>17.044</td>\n",
       "      <td>2.044</td>\n",
       "      <td>India</td>\n",
       "    </tr>\n",
       "    <tr>\n",
       "      <th>1</th>\n",
       "      <td>1796-02-01</td>\n",
       "      <td>19.193</td>\n",
       "      <td>1.359</td>\n",
       "      <td>India</td>\n",
       "    </tr>\n",
       "    <tr>\n",
       "      <th>2</th>\n",
       "      <td>1796-03-01</td>\n",
       "      <td>22.319</td>\n",
       "      <td>2.125</td>\n",
       "      <td>India</td>\n",
       "    </tr>\n",
       "    <tr>\n",
       "      <th>3</th>\n",
       "      <td>1796-04-01</td>\n",
       "      <td>27.233</td>\n",
       "      <td>1.510</td>\n",
       "      <td>India</td>\n",
       "    </tr>\n",
       "    <tr>\n",
       "      <th>4</th>\n",
       "      <td>1796-05-01</td>\n",
       "      <td>30.035</td>\n",
       "      <td>1.338</td>\n",
       "      <td>India</td>\n",
       "    </tr>\n",
       "    <tr>\n",
       "      <th>...</th>\n",
       "      <td>...</td>\n",
       "      <td>...</td>\n",
       "      <td>...</td>\n",
       "      <td>...</td>\n",
       "    </tr>\n",
       "    <tr>\n",
       "      <th>2608</th>\n",
       "      <td>2013-05-01</td>\n",
       "      <td>31.014</td>\n",
       "      <td>0.205</td>\n",
       "      <td>India</td>\n",
       "    </tr>\n",
       "    <tr>\n",
       "      <th>2609</th>\n",
       "      <td>2013-06-01</td>\n",
       "      <td>28.766</td>\n",
       "      <td>0.299</td>\n",
       "      <td>India</td>\n",
       "    </tr>\n",
       "    <tr>\n",
       "      <th>2610</th>\n",
       "      <td>2013-07-01</td>\n",
       "      <td>27.012</td>\n",
       "      <td>0.197</td>\n",
       "      <td>India</td>\n",
       "    </tr>\n",
       "    <tr>\n",
       "      <th>2611</th>\n",
       "      <td>2013-08-01</td>\n",
       "      <td>26.555</td>\n",
       "      <td>0.242</td>\n",
       "      <td>India</td>\n",
       "    </tr>\n",
       "    <tr>\n",
       "      <th>2612</th>\n",
       "      <td>2013-09-01</td>\n",
       "      <td>NaN</td>\n",
       "      <td>NaN</td>\n",
       "      <td>India</td>\n",
       "    </tr>\n",
       "  </tbody>\n",
       "</table>\n",
       "<p>2613 rows × 4 columns</p>\n",
       "</div>"
      ],
      "text/plain": [
       "              dt  AverageTemperature  AverageTemperatureUncertainty Country\n",
       "0     1796-01-01              17.044                          2.044   India\n",
       "1     1796-02-01              19.193                          1.359   India\n",
       "2     1796-03-01              22.319                          2.125   India\n",
       "3     1796-04-01              27.233                          1.510   India\n",
       "4     1796-05-01              30.035                          1.338   India\n",
       "...          ...                 ...                            ...     ...\n",
       "2608  2013-05-01              31.014                          0.205   India\n",
       "2609  2013-06-01              28.766                          0.299   India\n",
       "2610  2013-07-01              27.012                          0.197   India\n",
       "2611  2013-08-01              26.555                          0.242   India\n",
       "2612  2013-09-01                 NaN                            NaN   India\n",
       "\n",
       "[2613 rows x 4 columns]"
      ]
     },
     "execution_count": 6,
     "metadata": {},
     "output_type": "execute_result"
    }
   ],
   "source": [
    "ind_temp = pd.read_csv(\"ind_temp.csv\")\n",
    "ind_temp"
   ]
  },
  {
   "cell_type": "markdown",
   "metadata": {
    "id": "susAVpwsi3rx"
   },
   "source": [
    "`Question -3:` Dataset - India temperature dataset.\n",
    "\n",
    "Data link: https://drive.google.com/file/d/1whb8Rjdk9TBKOwVi8NwZD1Tc8Tdv7iEc/view?usp=share_link\n",
    "\n",
    "Kaggle Link : (Just take IND data for this question, have to apply filtering). https://www.kaggle.com/datasets/berkeleyearth/climate-change-earth-surface-temperature-data\n",
    "\n",
    "A climate research organization wants to estimate the average temperature of a certain country. They collect temperature data for 2613 days but due to certain limitations, they only have information about the average temperature for 2508 days. The organization assumes that the population follows a normal distribution and wants to estimate the population mean temperature with a 95% confidence level.\n",
    "\n",
    "* Standard deviation is assumed as given data standard deviation. z Procedure\n",
    "* Standard deviation is not given. Apply t Procedure"
   ]
  },
  {
   "cell_type": "code",
   "execution_count": 7,
   "metadata": {},
   "outputs": [
    {
     "name": "stdout",
     "output_type": "stream",
     "text": [
      "The 95% confidence interval for the population mean temperature is: (23.70, 24.04) degrees Celsius\n"
     ]
    }
   ],
   "source": [
    "#Standard deviation is assumed as given data standard deviation. z Procedure\n",
    "import pandas as pd\n",
    "import numpy as np\n",
    "import scipy.stats as stats\n",
    "\n",
    "# load the data\n",
    "ind_temp = pd.read_csv(\"ind_temp.csv\")\n",
    "\n",
    "# calculate the sample mean temperature and population standard deviation\n",
    "sample_mean = ind_temp[\"AverageTemperature\"].mean()\n",
    "pop_std = ind_temp[\"AverageTemperature\"].std()\n",
    "\n",
    "# sample information\n",
    "n = 2508\n",
    "\n",
    "# calculate the standard error of the mean\n",
    "se = pop_std / np.sqrt(n)\n",
    "\n",
    "# calculate the critical value for a 95% confidence level\n",
    "alpha = 0.05  # 1 - confidence level\n",
    "cv = stats.norm.ppf(1 - alpha/2)\n",
    "\n",
    "# calculate the confidence interval\n",
    "lower_ci = sample_mean - cv * se\n",
    "upper_ci = sample_mean + cv * se\n",
    "\n",
    "# print the result\n",
    "print(\"The 95% confidence interval for the population mean temperature is: ({:.2f}, {:.2f}) degrees Celsius\".format(lower_ci, upper_ci))\n"
   ]
  },
  {
   "cell_type": "code",
   "execution_count": 8,
   "metadata": {},
   "outputs": [
    {
     "name": "stdout",
     "output_type": "stream",
     "text": [
      "The 95% confidence interval for the population mean temperature is: (23.70, 24.04) degrees Celsius\n"
     ]
    }
   ],
   "source": [
    "#Standard deviation is not given. Apply t Procedure\n",
    "import pandas as pd\n",
    "import numpy as np\n",
    "import scipy.stats as stats\n",
    "\n",
    "# load the data\n",
    "ind_temp = pd.read_csv(\"ind_temp.csv\")\n",
    "\n",
    "# calculate the sample mean temperature and sample standard deviation\n",
    "sample_mean = ind_temp[\"AverageTemperature\"].mean()\n",
    "sample_std = ind_temp[\"AverageTemperature\"].std(ddof=1)  # use n-1 degrees of freedom\n",
    "\n",
    "# sample information\n",
    "n = 2508\n",
    "\n",
    "# calculate the standard error of the mean\n",
    "se = sample_std / np.sqrt(n)\n",
    "\n",
    "# calculate the critical value for a 95% confidence level\n",
    "alpha = 0.05  # 1 - confidence level\n",
    "df = n - 1  # degrees of freedom\n",
    "cv = stats.t.ppf(1 - alpha/2, df)\n",
    "\n",
    "# calculate the confidence interval\n",
    "lower_ci = sample_mean - cv * se\n",
    "upper_ci = sample_mean + cv * se\n",
    "\n",
    "# print the result\n",
    "print(\"The 95% confidence interval for the population mean temperature is: ({:.2f}, {:.2f}) degrees Celsius\".format(lower_ci, upper_ci))\n"
   ]
  },
  {
   "cell_type": "markdown",
   "metadata": {
    "id": "6jZBbFSoi88d"
   },
   "source": [
    "`Question 5:` BMW Dataset : https://drive.google.com/file/d/18amVv1WKKHEmwyvVy0RuXp4A6xrGOelc/view?usp=share_link\n",
    "\n",
    "\n",
    "\n",
    "* Task 1:\n",
    "The sales manager of a used car company wants to know what is the average selling price of all the used bmw cars.\n",
    "The analyst can collect only a sample of sales of 500 cars in the area. Since this estimate is going to be used by the company to strategize sales of his company, the sample mean should be a good approximation of all the account.\n",
    "What level of confidence is the sales manager going to be satisfied with? What +/- interval number is going to be acceptable?\n",
    "\n",
    "* Task 2:\n",
    "In addition to the price of the car, the manager also wants to now know the average mileage that the car has been driven. But the manager does not have the population standard deviation for the mileage. But the mileage data is available only from the 25 cars that they have sold so far.\n",
    "How do the analyst approach this problem to calculate 95% confidence interval, with only 25 samples?\n",
    "\n",
    "* Task 3:\n",
    "The manager is not happy with both the intervals (intervals from task 1 and 2) as the interval for the confidence is very high. The manager now asks the analyst to estimate the average price of the car (similar to task 1) but within a bound of 750 from the mean with 95% condidence level. How many sample does the analyst have to collect to arrive at this confidence interval level?\n",
    "\n",
    "* Task 4:\n",
    "Conversely, after the analyst started collecting the data, after a week he was only able to collect for 420 samples, though he needs 540 samples for Bound of 1,000, if he has to do the analysis now, what is the best interval he can acheive for 95% confidence levels?"
   ]
  },
  {
   "cell_type": "code",
   "execution_count": 10,
   "metadata": {
    "id": "77c2kBzBi3Fc"
   },
   "outputs": [
    {
     "data": {
      "text/html": [
       "<div>\n",
       "<style scoped>\n",
       "    .dataframe tbody tr th:only-of-type {\n",
       "        vertical-align: middle;\n",
       "    }\n",
       "\n",
       "    .dataframe tbody tr th {\n",
       "        vertical-align: top;\n",
       "    }\n",
       "\n",
       "    .dataframe thead th {\n",
       "        text-align: right;\n",
       "    }\n",
       "</style>\n",
       "<table border=\"1\" class=\"dataframe\">\n",
       "  <thead>\n",
       "    <tr style=\"text-align: right;\">\n",
       "      <th></th>\n",
       "      <th>model</th>\n",
       "      <th>year</th>\n",
       "      <th>price</th>\n",
       "      <th>transmission</th>\n",
       "      <th>mileage</th>\n",
       "      <th>fuelType</th>\n",
       "      <th>tax</th>\n",
       "      <th>mpg</th>\n",
       "      <th>engineSize</th>\n",
       "    </tr>\n",
       "  </thead>\n",
       "  <tbody>\n",
       "    <tr>\n",
       "      <th>0</th>\n",
       "      <td>5 Series</td>\n",
       "      <td>2014</td>\n",
       "      <td>11200</td>\n",
       "      <td>Automatic</td>\n",
       "      <td>67068</td>\n",
       "      <td>Diesel</td>\n",
       "      <td>125</td>\n",
       "      <td>57.6</td>\n",
       "      <td>2.0</td>\n",
       "    </tr>\n",
       "    <tr>\n",
       "      <th>1</th>\n",
       "      <td>6 Series</td>\n",
       "      <td>2018</td>\n",
       "      <td>27000</td>\n",
       "      <td>Automatic</td>\n",
       "      <td>14827</td>\n",
       "      <td>Petrol</td>\n",
       "      <td>145</td>\n",
       "      <td>42.8</td>\n",
       "      <td>2.0</td>\n",
       "    </tr>\n",
       "    <tr>\n",
       "      <th>2</th>\n",
       "      <td>5 Series</td>\n",
       "      <td>2016</td>\n",
       "      <td>16000</td>\n",
       "      <td>Automatic</td>\n",
       "      <td>62794</td>\n",
       "      <td>Diesel</td>\n",
       "      <td>160</td>\n",
       "      <td>51.4</td>\n",
       "      <td>3.0</td>\n",
       "    </tr>\n",
       "    <tr>\n",
       "      <th>3</th>\n",
       "      <td>1 Series</td>\n",
       "      <td>2017</td>\n",
       "      <td>12750</td>\n",
       "      <td>Automatic</td>\n",
       "      <td>26676</td>\n",
       "      <td>Diesel</td>\n",
       "      <td>145</td>\n",
       "      <td>72.4</td>\n",
       "      <td>1.5</td>\n",
       "    </tr>\n",
       "    <tr>\n",
       "      <th>4</th>\n",
       "      <td>7 Series</td>\n",
       "      <td>2014</td>\n",
       "      <td>14500</td>\n",
       "      <td>Automatic</td>\n",
       "      <td>39554</td>\n",
       "      <td>Diesel</td>\n",
       "      <td>160</td>\n",
       "      <td>50.4</td>\n",
       "      <td>3.0</td>\n",
       "    </tr>\n",
       "    <tr>\n",
       "      <th>...</th>\n",
       "      <td>...</td>\n",
       "      <td>...</td>\n",
       "      <td>...</td>\n",
       "      <td>...</td>\n",
       "      <td>...</td>\n",
       "      <td>...</td>\n",
       "      <td>...</td>\n",
       "      <td>...</td>\n",
       "      <td>...</td>\n",
       "    </tr>\n",
       "    <tr>\n",
       "      <th>10776</th>\n",
       "      <td>X3</td>\n",
       "      <td>2016</td>\n",
       "      <td>19000</td>\n",
       "      <td>Automatic</td>\n",
       "      <td>40818</td>\n",
       "      <td>Diesel</td>\n",
       "      <td>150</td>\n",
       "      <td>54.3</td>\n",
       "      <td>2.0</td>\n",
       "    </tr>\n",
       "    <tr>\n",
       "      <th>10777</th>\n",
       "      <td>5 Series</td>\n",
       "      <td>2016</td>\n",
       "      <td>14600</td>\n",
       "      <td>Automatic</td>\n",
       "      <td>42947</td>\n",
       "      <td>Diesel</td>\n",
       "      <td>125</td>\n",
       "      <td>60.1</td>\n",
       "      <td>2.0</td>\n",
       "    </tr>\n",
       "    <tr>\n",
       "      <th>10778</th>\n",
       "      <td>3 Series</td>\n",
       "      <td>2017</td>\n",
       "      <td>13100</td>\n",
       "      <td>Manual</td>\n",
       "      <td>25468</td>\n",
       "      <td>Petrol</td>\n",
       "      <td>200</td>\n",
       "      <td>42.8</td>\n",
       "      <td>2.0</td>\n",
       "    </tr>\n",
       "    <tr>\n",
       "      <th>10779</th>\n",
       "      <td>1 Series</td>\n",
       "      <td>2014</td>\n",
       "      <td>9930</td>\n",
       "      <td>Automatic</td>\n",
       "      <td>45000</td>\n",
       "      <td>Diesel</td>\n",
       "      <td>30</td>\n",
       "      <td>64.2</td>\n",
       "      <td>2.0</td>\n",
       "    </tr>\n",
       "    <tr>\n",
       "      <th>10780</th>\n",
       "      <td>X1</td>\n",
       "      <td>2017</td>\n",
       "      <td>15981</td>\n",
       "      <td>Automatic</td>\n",
       "      <td>59432</td>\n",
       "      <td>Diesel</td>\n",
       "      <td>125</td>\n",
       "      <td>57.6</td>\n",
       "      <td>2.0</td>\n",
       "    </tr>\n",
       "  </tbody>\n",
       "</table>\n",
       "<p>10781 rows × 9 columns</p>\n",
       "</div>"
      ],
      "text/plain": [
       "           model  year  price transmission  mileage fuelType  tax   mpg  \\\n",
       "0       5 Series  2014  11200    Automatic    67068   Diesel  125  57.6   \n",
       "1       6 Series  2018  27000    Automatic    14827   Petrol  145  42.8   \n",
       "2       5 Series  2016  16000    Automatic    62794   Diesel  160  51.4   \n",
       "3       1 Series  2017  12750    Automatic    26676   Diesel  145  72.4   \n",
       "4       7 Series  2014  14500    Automatic    39554   Diesel  160  50.4   \n",
       "...          ...   ...    ...          ...      ...      ...  ...   ...   \n",
       "10776         X3  2016  19000    Automatic    40818   Diesel  150  54.3   \n",
       "10777   5 Series  2016  14600    Automatic    42947   Diesel  125  60.1   \n",
       "10778   3 Series  2017  13100       Manual    25468   Petrol  200  42.8   \n",
       "10779   1 Series  2014   9930    Automatic    45000   Diesel   30  64.2   \n",
       "10780         X1  2017  15981    Automatic    59432   Diesel  125  57.6   \n",
       "\n",
       "       engineSize  \n",
       "0             2.0  \n",
       "1             2.0  \n",
       "2             3.0  \n",
       "3             1.5  \n",
       "4             3.0  \n",
       "...           ...  \n",
       "10776         2.0  \n",
       "10777         2.0  \n",
       "10778         2.0  \n",
       "10779         2.0  \n",
       "10780         2.0  \n",
       "\n",
       "[10781 rows x 9 columns]"
      ]
     },
     "execution_count": 10,
     "metadata": {},
     "output_type": "execute_result"
    }
   ],
   "source": [
    "bmw = pd.read_csv(\"bmw.csv\")\n",
    "bmw"
   ]
  },
  {
   "cell_type": "markdown",
   "metadata": {},
   "source": [
    "### Task 1: The sales manager of a used car company wants to know what is the average selling price of all the used bmw cars. The analyst can collect only a sample of sales of 500 cars in the area. Since this estimate is going to be used by the company to strategize sales of his company, the sample mean should be a good approximation of all the account. What level of confidence is the sales manager going to be satisfied with? What +/- interval number is going to be acceptable?"
   ]
  },
  {
   "cell_type": "code",
   "execution_count": 11,
   "metadata": {},
   "outputs": [
    {
     "name": "stdout",
     "output_type": "stream",
     "text": [
      "At a 90% level of confidence, the 95% confidence interval for the population mean selling price is: (21892.12, 23574.70) with a margin of error of +/- 841.29\n",
      "At a 95% level of confidence, the 95% confidence interval for the population mean selling price is: (21730.38, 23736.44) with a margin of error of +/- 1003.03\n",
      "At a 99% level of confidence, the 95% confidence interval for the population mean selling price is: (21413.35, 24053.46) with a margin of error of +/- 1320.06\n"
     ]
    }
   ],
   "source": [
    "import pandas as pd\n",
    "import numpy as np\n",
    "import scipy.stats as stats\n",
    "\n",
    "# load the data\n",
    "bmw = pd.read_csv(\"bmw.csv\")\n",
    "\n",
    "# calculate the sample mean selling price and sample standard deviation\n",
    "sample_mean = bmw[\"price\"].mean()\n",
    "sample_std = bmw[\"price\"].std(ddof=1)  # use n-1 degrees of freedom\n",
    "\n",
    "# sample information\n",
    "n = 500\n",
    "\n",
    "# calculate the standard error of the mean\n",
    "se = sample_std / np.sqrt(n)\n",
    "\n",
    "# calculate the critical value and confidence interval for different levels of confidence\n",
    "df = n - 1  # degrees of freedom\n",
    "conf_levels = [0.90, 0.95, 0.99]\n",
    "for conf_level in conf_levels:\n",
    "    alpha = 1 - conf_level\n",
    "    cv = stats.t.ppf(1 - alpha/2, df)\n",
    "    lower_ci = sample_mean - cv * se\n",
    "    upper_ci = sample_mean + cv * se\n",
    "    interval = cv * se\n",
    "    print(\"At a {:.0%} level of confidence, the 95% confidence interval for the population mean selling price is: ({:.2f}, {:.2f}) with a margin of error of +/- {:.2f}\".format(conf_level, lower_ci, upper_ci, interval))\n"
   ]
  },
  {
   "cell_type": "markdown",
   "metadata": {},
   "source": [
    "### Task 2: In addition to the price of the car, the manager also wants to now know the average mileage that the car has been driven. But the manager does not have the population standard deviation for the mileage. But the mileage data is available only from the 25 cars that they have sold so far. How do the analyst approach this problem to calculate 95% confidence interval, with only 25 samples?"
   ]
  },
  {
   "cell_type": "code",
   "execution_count": 14,
   "metadata": {},
   "outputs": [
    {
     "name": "stdout",
     "output_type": "stream",
     "text": [
      "The 95% confidence interval for the average mileage is: (15118.39, 35875.59)\n"
     ]
    }
   ],
   "source": [
    "import pandas as pd\n",
    "import numpy as np\n",
    "from scipy.stats import t\n",
    "\n",
    "# Load the data\n",
    "bmw = pd.read_csv('bmw.csv')\n",
    "\n",
    "# Calculate the sample mean and standard deviation for mileage\n",
    "mileage_mean = bmw['mileage'].mean()\n",
    "mileage_std = bmw['mileage'].std(ddof=1)\n",
    "\n",
    "# Calculate the SEM(Standard Error of the Mean)\n",
    "#df=n-1\n",
    "n = 25\n",
    "sem = mileage_std / np.sqrt(n)\n",
    "\n",
    "# Calculate the t-value for a 95% confidence level with 24 degrees of freedom\n",
    "#1 - alpha/2 =0.975\n",
    "t_value = t.ppf(0.975, df=24)\n",
    "\n",
    "# Calculate the Margin of Error(MOE)\n",
    "moe = t_value * sem\n",
    "\n",
    "# Calculate the lower and upper bounds of the confidence interval\n",
    "lower_bound = mileage_mean - moe\n",
    "upper_bound = mileage_mean + moe\n",
    "\n",
    "# Print the results\n",
    "print(\"The 95% confidence interval for the average mileage is: ({:.2f}, {:.2f})\".format(lower_bound, upper_bound))\n"
   ]
  },
  {
   "cell_type": "markdown",
   "metadata": {},
   "source": [
    "### Task 3: The manager is not happy with both the intervals (intervals from task 1 and 2) as the interval for the confidence is very high. The manager now asks the analyst to estimate the average price of the car (similar to task 1) but within a bound of 750 from the mean with 95% confidence level. How many sample does the analyst have to collect to arrive at this confidence interval level?"
   ]
  },
  {
   "cell_type": "code",
   "execution_count": 17,
   "metadata": {},
   "outputs": [
    {
     "name": "stdout",
     "output_type": "stream",
     "text": [
      "The required sample size is 890.\n"
     ]
    }
   ],
   "source": [
    "import pandas as pd\n",
    "import numpy as np\n",
    "from scipy.stats import t\n",
    "\n",
    "# Load the BMW dataset\n",
    "bmw = pd.read_csv('bmw.csv')\n",
    "\n",
    "# Calculate the sample standard deviation of the price\n",
    "std_dev = np.std(bmw['price'], ddof=1)\n",
    "\n",
    "# Set the desired margin of error and the confidence level\n",
    "margin_error = 750\n",
    "conf_level = 0.95\n",
    "\n",
    "# Calculate the z-score corresponding to the confidence level\n",
    "z = t.ppf((1 + conf_level) / 2, len(bmw)-1)\n",
    "\n",
    "# Calculate the required sample size\n",
    "n = ((z * std_dev) / margin_error) ** 2\n",
    "\n",
    "print(f\"The required sample size is {int(n)}.\")\n"
   ]
  },
  {
   "cell_type": "raw",
   "metadata": {},
   "source": [
    "Both formulas can be used to find the critical value of a t-distribution for a given level of confidence and degrees of freedom.\n",
    "\n",
    "The formula z = t.ppf((1 + conf_level) / 2, len(bmw)-1) is using the t.ppf function from the scipy.stats module to find the critical value for a two-tailed t-distribution.\n",
    "\n",
    "The formula cv = stats.t.ppf(1 - alpha/2, df) is also finding the critical value for a two-tailed t-distribution, but is using the ppf function from the stats.t attribute of the scipy module.\n",
    "\n",
    "Both formulas achieve the same result and can be used interchangeably."
   ]
  },
  {
   "cell_type": "markdown",
   "metadata": {},
   "source": [
    "### Task 4: Conversely, after the analyst started collecting the data, after a week he was only able to collect for 420 samples, though he needs 540 samples for Bound of 1,000, if he has to do the analysis now, what is the best interval he can acheive for 95% confidence levels?"
   ]
  },
  {
   "cell_type": "code",
   "execution_count": 20,
   "metadata": {},
   "outputs": [
    {
     "name": "stdout",
     "output_type": "stream",
     "text": [
      "The 95% confidence interval is [22336.805755833844, 24523.04662511854].\n"
     ]
    }
   ],
   "source": [
    "import pandas as pd\n",
    "import numpy as np\n",
    "from scipy import stats\n",
    "\n",
    "# Load the BMW dataset\n",
    "bmw = pd.read_csv('bmw.csv')\n",
    "\n",
    "# Select a sample of 420 cars\n",
    "sample = bmw.sample(n=420, random_state=1)\n",
    "\n",
    "# Calculate the sample mean and standard deviation of the price\n",
    "sample_mean = np.mean(sample['price'])\n",
    "sample_std_dev = np.std(sample['price'], ddof=1)\n",
    "\n",
    "# Set the desired confidence level\n",
    "conf_level = 0.95\n",
    "\n",
    "# Calculate the standard error of the mean\n",
    "sem = sample_std_dev / np.sqrt(420)\n",
    "\n",
    "# Calculate the t-value for a two-tailed test\n",
    "t_value = stats.t.ppf(1 - (1 - conf_level) / 2, df=419)\n",
    "\n",
    "# Calculate the margin of error\n",
    "moe = t_value * sem\n",
    "\n",
    "# Calculate the lower and upper bounds of the confidence interval\n",
    "lower_bound = sample_mean - moe\n",
    "upper_bound = sample_mean + moe\n",
    "\n",
    "print(f\"The 95% confidence interval is [{lower_bound}, {upper_bound}].\")\n"
   ]
  },
  {
   "cell_type": "code",
   "execution_count": null,
   "metadata": {},
   "outputs": [],
   "source": []
  }
 ],
 "metadata": {
  "colab": {
   "provenance": []
  },
  "kernelspec": {
   "display_name": "Python 3 (ipykernel)",
   "language": "python",
   "name": "python3"
  },
  "language_info": {
   "codemirror_mode": {
    "name": "ipython",
    "version": 3
   },
   "file_extension": ".py",
   "mimetype": "text/x-python",
   "name": "python",
   "nbconvert_exporter": "python",
   "pygments_lexer": "ipython3",
   "version": "3.10.6"
  }
 },
 "nbformat": 4,
 "nbformat_minor": 1
}
