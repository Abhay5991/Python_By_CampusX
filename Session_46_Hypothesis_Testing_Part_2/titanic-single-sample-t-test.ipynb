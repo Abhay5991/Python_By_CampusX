{
 "cells": [
  {
   "cell_type": "code",
   "execution_count": 2,
   "metadata": {
    "_cell_guid": "b1076dfc-b9ad-4769-8c92-a6c4dae69d19",
    "_uuid": "8f2839f25d086af736a60e9eeb907d3b93b6e0e5",
    "execution": {
     "iopub.execute_input": "2023-04-06T15:49:54.724356Z",
     "iopub.status.busy": "2023-04-06T15:49:54.723923Z",
     "iopub.status.idle": "2023-04-06T15:49:54.736461Z",
     "shell.execute_reply": "2023-04-06T15:49:54.735020Z",
     "shell.execute_reply.started": "2023-04-06T15:49:54.724316Z"
    }
   },
   "outputs": [
    {
     "name": "stdout",
     "output_type": "stream",
     "text": [
      "/kaggle/input/titanic/train.csv\n",
      "/kaggle/input/titanic/test.csv\n",
      "/kaggle/input/titanic/gender_submission.csv\n"
     ]
    }
   ],
   "source": [
    "# This Python 3 environment comes with many helpful analytics libraries installed\n",
    "# It is defined by the kaggle/python Docker image: https://github.com/kaggle/docker-python\n",
    "# For example, here's several helpful packages to load\n",
    "\n",
    "import numpy as np # linear algebra\n",
    "import pandas as pd # data processing, CSV file I/O (e.g. pd.read_csv)\n",
    "\n",
    "# Input data files are available in the read-only \"../input/\" directory\n",
    "# For example, running this (by clicking run or pressing Shift+Enter) will list all files under the input directory\n",
    "\n",
    "import os\n",
    "for dirname, _, filenames in os.walk('/kaggle/input'):\n",
    "    for filename in filenames:\n",
    "        print(os.path.join(dirname, filename))\n",
    "\n",
    "# You can write up to 20GB to the current directory (/kaggle/working/) that gets preserved as output when you create a version using \"Save & Run All\" \n",
    "# You can also write temporary files to /kaggle/temp/, but they won't be saved outside of the current session"
   ]
  },
  {
   "cell_type": "code",
   "execution_count": 3,
   "metadata": {
    "execution": {
     "iopub.execute_input": "2023-04-06T15:49:57.735881Z",
     "iopub.status.busy": "2023-04-06T15:49:57.735474Z",
     "iopub.status.idle": "2023-04-06T15:49:57.775532Z",
     "shell.execute_reply": "2023-04-06T15:49:57.774266Z",
     "shell.execute_reply.started": "2023-04-06T15:49:57.735847Z"
    }
   },
   "outputs": [],
   "source": [
    "train = pd.read_csv('/kaggle/input/titanic/train.csv').drop(columns=['Survived'])\n",
    "test = pd.read_csv('/kaggle/input/titanic/test.csv')"
   ]
  },
  {
   "cell_type": "code",
   "execution_count": 4,
   "metadata": {
    "execution": {
     "iopub.execute_input": "2023-04-06T15:49:58.530447Z",
     "iopub.status.busy": "2023-04-06T15:49:58.529778Z",
     "iopub.status.idle": "2023-04-06T15:49:58.551427Z",
     "shell.execute_reply": "2023-04-06T15:49:58.548981Z",
     "shell.execute_reply.started": "2023-04-06T15:49:58.530383Z"
    }
   },
   "outputs": [],
   "source": [
    "final_df = pd.concat([train,test]).sample(1309)"
   ]
  },
  {
   "cell_type": "code",
   "execution_count": 5,
   "metadata": {
    "execution": {
     "iopub.execute_input": "2023-04-06T15:49:59.532648Z",
     "iopub.status.busy": "2023-04-06T15:49:59.531404Z",
     "iopub.status.idle": "2023-04-06T15:49:59.540814Z",
     "shell.execute_reply": "2023-04-06T15:49:59.539491Z",
     "shell.execute_reply.started": "2023-04-06T15:49:59.532508Z"
    }
   },
   "outputs": [],
   "source": [
    "pop = final_df['Age'].dropna()"
   ]
  },
  {
   "cell_type": "code",
   "execution_count": 7,
   "metadata": {
    "execution": {
     "iopub.execute_input": "2023-04-06T15:50:11.379390Z",
     "iopub.status.busy": "2023-04-06T15:50:11.378984Z",
     "iopub.status.idle": "2023-04-06T15:50:11.388343Z",
     "shell.execute_reply": "2023-04-06T15:50:11.387006Z",
     "shell.execute_reply.started": "2023-04-06T15:50:11.379356Z"
    }
   },
   "outputs": [
    {
     "data": {
      "text/plain": [
       "29.881137667304014"
      ]
     },
     "execution_count": 7,
     "metadata": {},
     "output_type": "execute_result"
    }
   ],
   "source": [
    "pop.mean()"
   ]
  },
  {
   "cell_type": "code",
   "execution_count": 45,
   "metadata": {
    "execution": {
     "iopub.execute_input": "2023-04-06T12:42:18.427562Z",
     "iopub.status.busy": "2023-04-06T12:42:18.426948Z",
     "iopub.status.idle": "2023-04-06T12:42:18.434332Z",
     "shell.execute_reply": "2023-04-06T12:42:18.433004Z",
     "shell.execute_reply.started": "2023-04-06T12:42:18.427509Z"
    }
   },
   "outputs": [],
   "source": [
    "sample_age = pop.sample(25).values"
   ]
  },
  {
   "cell_type": "code",
   "execution_count": 46,
   "metadata": {
    "execution": {
     "iopub.execute_input": "2023-04-06T12:42:19.633958Z",
     "iopub.status.busy": "2023-04-06T12:42:19.632613Z",
     "iopub.status.idle": "2023-04-06T12:42:19.643336Z",
     "shell.execute_reply": "2023-04-06T12:42:19.641882Z",
     "shell.execute_reply.started": "2023-04-06T12:42:19.633896Z"
    }
   },
   "outputs": [
    {
     "data": {
      "text/plain": [
       "array([24. , 45. , 40. , 43. , 27. , 23. , 19. , 28. , 46. , 23. , 32.5,\n",
       "       36. , 18.5, 22. , 27. , 35. , 34. , 28. , 26. , 26. , 12. , 18. ,\n",
       "       26. , 22. , 35. ])"
      ]
     },
     "execution_count": 46,
     "metadata": {},
     "output_type": "execute_result"
    }
   ],
   "source": [
    "sample_age"
   ]
  },
  {
   "cell_type": "code",
   "execution_count": 47,
   "metadata": {
    "execution": {
     "iopub.execute_input": "2023-04-06T12:42:20.582575Z",
     "iopub.status.busy": "2023-04-06T12:42:20.581896Z",
     "iopub.status.idle": "2023-04-06T12:42:20.587769Z",
     "shell.execute_reply": "2023-04-06T12:42:20.586024Z",
     "shell.execute_reply.started": "2023-04-06T12:42:20.582537Z"
    }
   },
   "outputs": [],
   "source": [
    "# H0 -> The mean age is 35\n",
    "# H1 -> The mean is less than 35"
   ]
  },
  {
   "cell_type": "code",
   "execution_count": 48,
   "metadata": {
    "execution": {
     "iopub.execute_input": "2023-04-06T12:42:22.855316Z",
     "iopub.status.busy": "2023-04-06T12:42:22.854867Z",
     "iopub.status.idle": "2023-04-06T12:42:22.862408Z",
     "shell.execute_reply": "2023-04-06T12:42:22.860817Z",
     "shell.execute_reply.started": "2023-04-06T12:42:22.855267Z"
    }
   },
   "outputs": [
    {
     "name": "stdout",
     "output_type": "stream",
     "text": [
      "ShapiroResult(statistic=0.9592478275299072, pvalue=0.39969733357429504)\n"
     ]
    }
   ],
   "source": [
    "# check for normality using Shapiro Wilk test\n",
    "from scipy.stats import shapiro\n",
    "\n",
    "shapiro_age = shapiro(sample_age)\n",
    "\n",
    "print(shapiro_age)"
   ]
  },
  {
   "cell_type": "code",
   "execution_count": 49,
   "metadata": {
    "execution": {
     "iopub.execute_input": "2023-04-06T12:42:28.744297Z",
     "iopub.status.busy": "2023-04-06T12:42:28.743878Z",
     "iopub.status.idle": "2023-04-06T12:42:28.749124Z",
     "shell.execute_reply": "2023-04-06T12:42:28.748101Z",
     "shell.execute_reply.started": "2023-04-06T12:42:28.744237Z"
    }
   },
   "outputs": [],
   "source": [
    "pop_mean = 35"
   ]
  },
  {
   "cell_type": "code",
   "execution_count": 53,
   "metadata": {
    "execution": {
     "iopub.execute_input": "2023-04-06T13:04:55.461138Z",
     "iopub.status.busy": "2023-04-06T13:04:55.460714Z",
     "iopub.status.idle": "2023-04-06T13:04:55.469500Z",
     "shell.execute_reply": "2023-04-06T13:04:55.467771Z",
     "shell.execute_reply.started": "2023-04-06T13:04:55.461102Z"
    }
   },
   "outputs": [
    {
     "name": "stdout",
     "output_type": "stream",
     "text": [
      "t-statistic: -3.603278949263022\n",
      "p-value: 0.0007129622534167808\n"
     ]
    }
   ],
   "source": [
    "import scipy.stats as stats\n",
    "\n",
    "t_statistic, p_value = stats.ttest_1samp(sample_age, pop_mean)\n",
    "\n",
    "print(\"t-statistic:\", t_statistic)\n",
    "print(\"p-value:\", p_value/2)"
   ]
  },
  {
   "cell_type": "code",
   "execution_count": 51,
   "metadata": {
    "execution": {
     "iopub.execute_input": "2023-04-06T12:42:40.082916Z",
     "iopub.status.busy": "2023-04-06T12:42:40.082140Z",
     "iopub.status.idle": "2023-04-06T12:42:40.090895Z",
     "shell.execute_reply": "2023-04-06T12:42:40.089226Z",
     "shell.execute_reply.started": "2023-04-06T12:42:40.082858Z"
    }
   },
   "outputs": [
    {
     "name": "stdout",
     "output_type": "stream",
     "text": [
      "Reject the null hypothesis.\n"
     ]
    }
   ],
   "source": [
    "alpha = 0.05\n",
    "\n",
    "if p_value < alpha:\n",
    "    print(\"Reject the null hypothesis.\")\n",
    "else:\n",
    "    print(\"Fail to reject the null hypothesis.\")\n"
   ]
  },
  {
   "cell_type": "code",
   "execution_count": 1,
   "metadata": {
    "execution": {
     "iopub.execute_input": "2023-04-06T15:49:49.959133Z",
     "iopub.status.busy": "2023-04-06T15:49:49.957881Z",
     "iopub.status.idle": "2023-04-06T15:49:50.056257Z",
     "shell.execute_reply": "2023-04-06T15:49:50.054143Z",
     "shell.execute_reply.started": "2023-04-06T15:49:49.959075Z"
    }
   },
   "outputs": [
    {
     "ename": "NameError",
     "evalue": "name 'pop' is not defined",
     "output_type": "error",
     "traceback": [
      "\u001b[0;31m---------------------------------------------------------------------------\u001b[0m",
      "\u001b[0;31mNameError\u001b[0m                                 Traceback (most recent call last)",
      "\u001b[0;32m/tmp/ipykernel_27/3706735533.py\u001b[0m in \u001b[0;36m<module>\u001b[0;34m\u001b[0m\n\u001b[0;32m----> 1\u001b[0;31m \u001b[0mpop\u001b[0m\u001b[0;34m\u001b[0m\u001b[0;34m\u001b[0m\u001b[0m\n\u001b[0m",
      "\u001b[0;31mNameError\u001b[0m: name 'pop' is not defined"
     ]
    }
   ],
   "source": [
    "pop"
   ]
  },
  {
   "cell_type": "code",
   "execution_count": null,
   "metadata": {},
   "outputs": [],
   "source": []
  }
 ],
 "metadata": {
  "kernelspec": {
   "display_name": "Python 3 (ipykernel)",
   "language": "python",
   "name": "python3"
  },
  "language_info": {
   "codemirror_mode": {
    "name": "ipython",
    "version": 3
   },
   "file_extension": ".py",
   "mimetype": "text/x-python",
   "name": "python",
   "nbconvert_exporter": "python",
   "pygments_lexer": "ipython3",
   "version": "3.10.6"
  }
 },
 "nbformat": 4,
 "nbformat_minor": 4
}
