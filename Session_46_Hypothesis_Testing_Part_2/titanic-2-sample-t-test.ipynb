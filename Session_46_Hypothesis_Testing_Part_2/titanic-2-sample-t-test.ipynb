{
 "cells": [
  {
   "cell_type": "code",
   "execution_count": 1,
   "metadata": {
    "_cell_guid": "b1076dfc-b9ad-4769-8c92-a6c4dae69d19",
    "_uuid": "8f2839f25d086af736a60e9eeb907d3b93b6e0e5",
    "execution": {
     "iopub.execute_input": "2023-04-06T16:14:27.146287Z",
     "iopub.status.busy": "2023-04-06T16:14:27.145846Z",
     "iopub.status.idle": "2023-04-06T16:14:27.183869Z",
     "shell.execute_reply": "2023-04-06T16:14:27.182372Z",
     "shell.execute_reply.started": "2023-04-06T16:14:27.146250Z"
    }
   },
   "outputs": [
    {
     "name": "stdout",
     "output_type": "stream",
     "text": [
      "/kaggle/input/titanic/train.csv\n",
      "/kaggle/input/titanic/test.csv\n",
      "/kaggle/input/titanic/gender_submission.csv\n"
     ]
    }
   ],
   "source": [
    "# This Python 3 environment comes with many helpful analytics libraries installed\n",
    "# It is defined by the kaggle/python Docker image: https://github.com/kaggle/docker-python\n",
    "# For example, here's several helpful packages to load\n",
    "\n",
    "import numpy as np # linear algebra\n",
    "import pandas as pd # data processing, CSV file I/O (e.g. pd.read_csv)\n",
    "\n",
    "# Input data files are available in the read-only \"../input/\" directory\n",
    "# For example, running this (by clicking run or pressing Shift+Enter) will list all files under the input directory\n",
    "\n",
    "import os\n",
    "for dirname, _, filenames in os.walk('/kaggle/input'):\n",
    "    for filename in filenames:\n",
    "        print(os.path.join(dirname, filename))\n",
    "\n",
    "# You can write up to 20GB to the current directory (/kaggle/working/) that gets preserved as output when you create a version using \"Save & Run All\" \n",
    "# You can also write temporary files to /kaggle/temp/, but they won't be saved outside of the current session"
   ]
  },
  {
   "cell_type": "code",
   "execution_count": 2,
   "metadata": {
    "execution": {
     "iopub.execute_input": "2023-04-06T16:14:30.850312Z",
     "iopub.status.busy": "2023-04-06T16:14:30.849139Z",
     "iopub.status.idle": "2023-04-06T16:14:30.885380Z",
     "shell.execute_reply": "2023-04-06T16:14:30.884257Z",
     "shell.execute_reply.started": "2023-04-06T16:14:30.850248Z"
    }
   },
   "outputs": [],
   "source": [
    "train = pd.read_csv('/kaggle/input/titanic/train.csv').drop(columns=['Survived'])\n",
    "test = pd.read_csv('/kaggle/input/titanic/test.csv')"
   ]
  },
  {
   "cell_type": "code",
   "execution_count": 2,
   "metadata": {},
   "outputs": [],
   "source": [
    "import pandas as pd"
   ]
  },
  {
   "cell_type": "code",
   "execution_count": 3,
   "metadata": {},
   "outputs": [],
   "source": [
    "train = pd.read_csv('train.csv').drop(columns=['Survived'])\n",
    "test = pd.read_csv('test.csv')"
   ]
  },
  {
   "cell_type": "code",
   "execution_count": 5,
   "metadata": {
    "execution": {
     "iopub.execute_input": "2023-04-06T16:14:33.629087Z",
     "iopub.status.busy": "2023-04-06T16:14:33.628629Z",
     "iopub.status.idle": "2023-04-06T16:14:33.641248Z",
     "shell.execute_reply": "2023-04-06T16:14:33.640201Z",
     "shell.execute_reply.started": "2023-04-06T16:14:33.629019Z"
    }
   },
   "outputs": [
    {
     "data": {
      "text/html": [
       "<div>\n",
       "<style scoped>\n",
       "    .dataframe tbody tr th:only-of-type {\n",
       "        vertical-align: middle;\n",
       "    }\n",
       "\n",
       "    .dataframe tbody tr th {\n",
       "        vertical-align: top;\n",
       "    }\n",
       "\n",
       "    .dataframe thead th {\n",
       "        text-align: right;\n",
       "    }\n",
       "</style>\n",
       "<table border=\"1\" class=\"dataframe\">\n",
       "  <thead>\n",
       "    <tr style=\"text-align: right;\">\n",
       "      <th></th>\n",
       "      <th>PassengerId</th>\n",
       "      <th>Pclass</th>\n",
       "      <th>Name</th>\n",
       "      <th>Sex</th>\n",
       "      <th>Age</th>\n",
       "      <th>SibSp</th>\n",
       "      <th>Parch</th>\n",
       "      <th>Ticket</th>\n",
       "      <th>Fare</th>\n",
       "      <th>Cabin</th>\n",
       "      <th>Embarked</th>\n",
       "    </tr>\n",
       "  </thead>\n",
       "  <tbody>\n",
       "    <tr>\n",
       "      <th>176</th>\n",
       "      <td>177</td>\n",
       "      <td>3</td>\n",
       "      <td>Lefebre, Master. Henry Forbes</td>\n",
       "      <td>male</td>\n",
       "      <td>NaN</td>\n",
       "      <td>3</td>\n",
       "      <td>1</td>\n",
       "      <td>4133</td>\n",
       "      <td>25.4667</td>\n",
       "      <td>NaN</td>\n",
       "      <td>S</td>\n",
       "    </tr>\n",
       "    <tr>\n",
       "      <th>138</th>\n",
       "      <td>139</td>\n",
       "      <td>3</td>\n",
       "      <td>Osen, Mr. Olaf Elon</td>\n",
       "      <td>male</td>\n",
       "      <td>16.0</td>\n",
       "      <td>0</td>\n",
       "      <td>0</td>\n",
       "      <td>7534</td>\n",
       "      <td>9.2167</td>\n",
       "      <td>NaN</td>\n",
       "      <td>S</td>\n",
       "    </tr>\n",
       "    <tr>\n",
       "      <th>152</th>\n",
       "      <td>153</td>\n",
       "      <td>3</td>\n",
       "      <td>Meo, Mr. Alfonzo</td>\n",
       "      <td>male</td>\n",
       "      <td>55.5</td>\n",
       "      <td>0</td>\n",
       "      <td>0</td>\n",
       "      <td>A.5. 11206</td>\n",
       "      <td>8.0500</td>\n",
       "      <td>NaN</td>\n",
       "      <td>S</td>\n",
       "    </tr>\n",
       "  </tbody>\n",
       "</table>\n",
       "</div>"
      ],
      "text/plain": [
       "     PassengerId  Pclass                           Name   Sex   Age  SibSp  \\\n",
       "176          177       3  Lefebre, Master. Henry Forbes  male   NaN      3   \n",
       "138          139       3            Osen, Mr. Olaf Elon  male  16.0      0   \n",
       "152          153       3               Meo, Mr. Alfonzo  male  55.5      0   \n",
       "\n",
       "     Parch      Ticket     Fare Cabin Embarked  \n",
       "176      1        4133  25.4667   NaN        S  \n",
       "138      0        7534   9.2167   NaN        S  \n",
       "152      0  A.5. 11206   8.0500   NaN        S  "
      ]
     },
     "execution_count": 5,
     "metadata": {},
     "output_type": "execute_result"
    }
   ],
   "source": [
    "final_df = pd.concat([train,test]).sample(1309)\n",
    "final_df.head(3)"
   ]
  },
  {
   "cell_type": "code",
   "execution_count": 6,
   "metadata": {
    "execution": {
     "iopub.execute_input": "2023-04-06T16:14:35.648373Z",
     "iopub.status.busy": "2023-04-06T16:14:35.647539Z",
     "iopub.status.idle": "2023-04-06T16:14:35.661169Z",
     "shell.execute_reply": "2023-04-06T16:14:35.659371Z",
     "shell.execute_reply.started": "2023-04-06T16:14:35.648324Z"
    }
   },
   "outputs": [],
   "source": [
    "pop_male = final_df[final_df['Sex'] == 'male']['Age'].dropna()\n",
    "pop_female = final_df[final_df['Sex'] == 'female']['Age'].dropna()"
   ]
  },
  {
   "cell_type": "code",
   "execution_count": 7,
   "metadata": {
    "execution": {
     "iopub.execute_input": "2023-04-06T16:14:52.371278Z",
     "iopub.status.busy": "2023-04-06T16:14:52.370797Z",
     "iopub.status.idle": "2023-04-06T16:14:52.382204Z",
     "shell.execute_reply": "2023-04-06T16:14:52.380882Z",
     "shell.execute_reply.started": "2023-04-06T16:14:52.371218Z"
    }
   },
   "outputs": [
    {
     "data": {
      "text/plain": [
       "581    39.0\n",
       "556    48.0\n",
       "419    10.0\n",
       "182    18.0\n",
       "142    24.0\n",
       "       ... \n",
       "627    21.0\n",
       "24     48.0\n",
       "79     30.0\n",
       "218    32.0\n",
       "246    22.0\n",
       "Name: Age, Length: 388, dtype: float64"
      ]
     },
     "execution_count": 7,
     "metadata": {},
     "output_type": "execute_result"
    }
   ],
   "source": [
    "pop_female"
   ]
  },
  {
   "cell_type": "code",
   "execution_count": 8,
   "metadata": {
    "execution": {
     "iopub.execute_input": "2023-04-06T12:55:04.997999Z",
     "iopub.status.busy": "2023-04-06T12:55:04.997595Z",
     "iopub.status.idle": "2023-04-06T12:55:05.004651Z",
     "shell.execute_reply": "2023-04-06T12:55:05.003433Z",
     "shell.execute_reply.started": "2023-04-06T12:55:04.997965Z"
    }
   },
   "outputs": [],
   "source": [
    "sample_male = pop_male.sample(25)\n",
    "sample_female = pop_female.sample(25)\n",
    "\n",
    "alpha = 0.05"
   ]
  },
  {
   "cell_type": "code",
   "execution_count": 9,
   "metadata": {
    "execution": {
     "iopub.execute_input": "2023-04-06T12:55:08.865629Z",
     "iopub.status.busy": "2023-04-06T12:55:08.865213Z",
     "iopub.status.idle": "2023-04-06T12:55:08.871018Z",
     "shell.execute_reply": "2023-04-06T12:55:08.869218Z",
     "shell.execute_reply.started": "2023-04-06T12:55:08.865590Z"
    }
   },
   "outputs": [],
   "source": [
    "# H0 - Mean age of male and female are similar\n",
    "# H1 - Mean age of male is higher than female"
   ]
  },
  {
   "cell_type": "code",
   "execution_count": 10,
   "metadata": {
    "execution": {
     "iopub.execute_input": "2023-04-06T16:17:47.797034Z",
     "iopub.status.busy": "2023-04-06T16:17:47.796592Z",
     "iopub.status.idle": "2023-04-06T16:17:47.805594Z",
     "shell.execute_reply": "2023-04-06T16:17:47.804355Z",
     "shell.execute_reply.started": "2023-04-06T16:17:47.796994Z"
    }
   },
   "outputs": [
    {
     "data": {
      "text/plain": [
       "30.58522796352584"
      ]
     },
     "execution_count": 10,
     "metadata": {},
     "output_type": "execute_result"
    }
   ],
   "source": [
    "pop_male.mean()"
   ]
  },
  {
   "cell_type": "code",
   "execution_count": 11,
   "metadata": {
    "execution": {
     "iopub.execute_input": "2023-04-06T16:17:57.290042Z",
     "iopub.status.busy": "2023-04-06T16:17:57.289587Z",
     "iopub.status.idle": "2023-04-06T16:17:57.297782Z",
     "shell.execute_reply": "2023-04-06T16:17:57.296760Z",
     "shell.execute_reply.started": "2023-04-06T16:17:57.290001Z"
    }
   },
   "outputs": [
    {
     "data": {
      "text/plain": [
       "28.68708762886598"
      ]
     },
     "execution_count": 11,
     "metadata": {},
     "output_type": "execute_result"
    }
   ],
   "source": [
    "pop_female.mean()"
   ]
  },
  {
   "cell_type": "code",
   "execution_count": 12,
   "metadata": {
    "execution": {
     "iopub.execute_input": "2023-04-06T12:56:36.642791Z",
     "iopub.status.busy": "2023-04-06T12:56:36.641993Z",
     "iopub.status.idle": "2023-04-06T12:56:36.914629Z",
     "shell.execute_reply": "2023-04-06T12:56:36.912078Z",
     "shell.execute_reply.started": "2023-04-06T12:56:36.642745Z"
    }
   },
   "outputs": [
    {
     "name": "stdout",
     "output_type": "stream",
     "text": [
      "Shapiro-Wilk test for desktop users: ShapiroResult(statistic=0.9718763828277588, pvalue=0.6928960084915161)\n",
      "Shapiro-Wilk test for mobile users: ShapiroResult(statistic=0.9457688331604004, pvalue=0.20094001293182373)\n"
     ]
    }
   ],
   "source": [
    "from scipy.stats import shapiro\n",
    "\n",
    "# Perform the Shapiro-Wilk test for both desktop and mobile users\n",
    "shapiro_male = shapiro(sample_male)\n",
    "shapiro_female = shapiro(sample_female)\n",
    "\n",
    "print(\"Shapiro-Wilk test for desktop users:\", shapiro_male)\n",
    "print(\"Shapiro-Wilk test for mobile users:\", shapiro_female)"
   ]
  },
  {
   "cell_type": "code",
   "execution_count": 13,
   "metadata": {
    "execution": {
     "iopub.execute_input": "2023-04-06T12:57:07.136792Z",
     "iopub.status.busy": "2023-04-06T12:57:07.136275Z",
     "iopub.status.idle": "2023-04-06T12:57:07.152134Z",
     "shell.execute_reply": "2023-04-06T12:57:07.150723Z",
     "shell.execute_reply.started": "2023-04-06T12:57:07.136750Z"
    }
   },
   "outputs": [
    {
     "name": "stdout",
     "output_type": "stream",
     "text": [
      "LeveneResult(statistic=0.7257837524275516, pvalue=0.39848390291849733)\n"
     ]
    }
   ],
   "source": [
    "from scipy.stats import levene\n",
    "\n",
    "# Perform Levene's test\n",
    "levene_test = levene(sample_male, sample_female)\n",
    "print(levene_test)"
   ]
  },
  {
   "cell_type": "code",
   "execution_count": 14,
   "metadata": {
    "execution": {
     "iopub.execute_input": "2023-04-06T13:04:27.509960Z",
     "iopub.status.busy": "2023-04-06T13:04:27.509491Z",
     "iopub.status.idle": "2023-04-06T13:04:27.519132Z",
     "shell.execute_reply": "2023-04-06T13:04:27.517326Z",
     "shell.execute_reply.started": "2023-04-06T13:04:27.509920Z"
    }
   },
   "outputs": [
    {
     "name": "stdout",
     "output_type": "stream",
     "text": [
      "t-statistic: 1.1778527044808158\n",
      "p-value: 0.1223311128773073\n"
     ]
    }
   ],
   "source": [
    "import scipy.stats as stats\n",
    "\n",
    "t_statistic, p_value = stats.ttest_ind(sample_male, sample_female)\n",
    "\n",
    "print(\"t-statistic:\", t_statistic)\n",
    "print(\"p-value:\", p_value/2)"
   ]
  },
  {
   "cell_type": "code",
   "execution_count": 15,
   "metadata": {
    "execution": {
     "iopub.execute_input": "2023-04-06T13:00:15.908621Z",
     "iopub.status.busy": "2023-04-06T13:00:15.906762Z",
     "iopub.status.idle": "2023-04-06T13:00:15.915892Z",
     "shell.execute_reply": "2023-04-06T13:00:15.914524Z",
     "shell.execute_reply.started": "2023-04-06T13:00:15.908561Z"
    }
   },
   "outputs": [
    {
     "name": "stdout",
     "output_type": "stream",
     "text": [
      "Fail to reject the null hypothesis.\n"
     ]
    }
   ],
   "source": [
    "alpha = 0.05\n",
    "\n",
    "if p_value < alpha:\n",
    "    print(\"Reject the null hypothesis.\")\n",
    "else:\n",
    "    print(\"Fail to reject the null hypothesis.\")"
   ]
  },
  {
   "cell_type": "code",
   "execution_count": null,
   "metadata": {},
   "outputs": [],
   "source": []
  }
 ],
 "metadata": {
  "kernelspec": {
   "display_name": "Python 3 (ipykernel)",
   "language": "python",
   "name": "python3"
  },
  "language_info": {
   "codemirror_mode": {
    "name": "ipython",
    "version": 3
   },
   "file_extension": ".py",
   "mimetype": "text/x-python",
   "name": "python",
   "nbconvert_exporter": "python",
   "pygments_lexer": "ipython3",
   "version": "3.10.6"
  }
 },
 "nbformat": 4,
 "nbformat_minor": 4
}
